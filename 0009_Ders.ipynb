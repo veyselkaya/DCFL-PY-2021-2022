{
  "nbformat": 4,
  "nbformat_minor": 0,
  "metadata": {
    "colab": {
      "name": "0009_Ders.ipynb",
      "provenance": [],
      "collapsed_sections": []
    },
    "kernelspec": {
      "name": "python3",
      "display_name": "Python 3"
    },
    "language_info": {
      "name": "python"
    }
  },
  "cells": [
    {
      "cell_type": "code",
      "execution_count": null,
      "metadata": {
        "id": "7IPjtLH6vsv_"
      },
      "outputs": [],
      "source": [
        "#Dosya açmak\n",
        "#open(\"dosyanın_adi\", erişim kipleri),w,r"
      ]
    },
    {
      "cell_type": "code",
      "source": [
        "open(\"dcfl.txt\", \"w\", encoding = \"utf-8\")"
      ],
      "metadata": {
        "colab": {
          "base_uri": "https://localhost:8080/"
        },
        "id": "3NQVZeFOxWu7",
        "outputId": "f7299309-d748-4a2d-ea56-a719f78098b0"
      },
      "execution_count": null,
      "outputs": [
        {
          "output_type": "execute_result",
          "data": {
            "text/plain": [
              "<_io.TextIOWrapper name='dcfl.txt' mode='w' encoding='utf-8'>"
            ]
          },
          "metadata": {},
          "execution_count": 33
        }
      ]
    },
    {
      "cell_type": "code",
      "source": [
        "#dosyaya yazı yazmak... \"a\" "
      ],
      "metadata": {
        "id": "TWCtvLc8yL6q"
      },
      "execution_count": null,
      "outputs": []
    },
    {
      "cell_type": "code",
      "source": [
        "file = open(\"dcfl.txt\", \"a\", encoding = \"utf-8\")\n",
        "file.write(\"Doğan Cüceloğlu Fen Lisesi\")"
      ],
      "metadata": {
        "colab": {
          "base_uri": "https://localhost:8080/"
        },
        "id": "NXJogXYnyjZR",
        "outputId": "968c3962-9897-4df1-c59d-e28f8c78c1e8"
      },
      "execution_count": null,
      "outputs": [
        {
          "output_type": "execute_result",
          "data": {
            "text/plain": [
              "26"
            ]
          },
          "metadata": {},
          "execution_count": 35
        }
      ]
    },
    {
      "cell_type": "code",
      "source": [
        "file = open(\"dcfl.txt\", \"a\", encoding = \"utf-8\")\n",
        "file.write(\"\\nKüçükçekmece\")"
      ],
      "metadata": {
        "colab": {
          "base_uri": "https://localhost:8080/"
        },
        "id": "19G4cJ_gzXgc",
        "outputId": "e0b6b2b9-5198-4b22-e627-89bf9a7b3f80"
      },
      "execution_count": null,
      "outputs": [
        {
          "output_type": "execute_result",
          "data": {
            "text/plain": [
              "13"
            ]
          },
          "metadata": {},
          "execution_count": 39
        }
      ]
    },
    {
      "cell_type": "code",
      "source": [
        "file = open(\"dcfl.txt\", \"a\", encoding = \"utf-8\")\n",
        "file.write(\"\\nİstanbul\")"
      ],
      "metadata": {
        "colab": {
          "base_uri": "https://localhost:8080/"
        },
        "id": "2aypxdHQzumg",
        "outputId": "177e249b-33ed-4f52-f454-6426cb7cd8d7"
      },
      "execution_count": null,
      "outputs": [
        {
          "output_type": "execute_result",
          "data": {
            "text/plain": [
              "9"
            ]
          },
          "metadata": {},
          "execution_count": 41
        }
      ]
    },
    {
      "cell_type": "code",
      "source": [
        "file2 = open(\"liste.txt\", \"a\", encoding = \"utf-8\")"
      ],
      "metadata": {
        "id": "iIsvLgsUz-4D"
      },
      "execution_count": null,
      "outputs": []
    },
    {
      "cell_type": "code",
      "source": [
        "file2 = open(\"liste.txt\", \"a\", encoding = \"utf-8\")\n",
        "\n",
        "for i in range(1,11):\n",
        "  file2.write(f\"\\n{i}-Sınıf\")"
      ],
      "metadata": {
        "id": "n1Na2gA00Lwl"
      },
      "execution_count": null,
      "outputs": []
    },
    {
      "cell_type": "code",
      "source": [
        "#dosya okuma işlemleri \"r\"..."
      ],
      "metadata": {
        "id": "0HujJAgr2J9m"
      },
      "execution_count": null,
      "outputs": []
    },
    {
      "cell_type": "code",
      "source": [
        "file  = open(\"dcfl.txt\", \"r\", encoding = \"utf-8\")\n",
        "for i in file:\n",
        "  print(i, end=\"\")"
      ],
      "metadata": {
        "colab": {
          "base_uri": "https://localhost:8080/"
        },
        "id": "0Mati2sF2Ah9",
        "outputId": "65151f78-8077-4726-8a2b-5d54a17951df"
      },
      "execution_count": null,
      "outputs": [
        {
          "output_type": "stream",
          "name": "stdout",
          "text": [
            "Doğan Cüceloğlu\n",
            "Küçükçekmece\n",
            "İstanbul\n",
            "İstanbul"
          ]
        }
      ]
    },
    {
      "cell_type": "code",
      "source": [
        "#read() fonksiyonu"
      ],
      "metadata": {
        "id": "s-vqaqcy2yyV"
      },
      "execution_count": null,
      "outputs": []
    },
    {
      "cell_type": "code",
      "source": [
        "file  = open(\"dcfl.txt\", \"r\", encoding = \"utf-8\")\n",
        "icerik = file.read()\n",
        "print(\"Dosyanın içeriği: \", icerik)"
      ],
      "metadata": {
        "colab": {
          "base_uri": "https://localhost:8080/"
        },
        "id": "f_4nPgRQ231y",
        "outputId": "f20fe54c-3343-4fe6-8161-806a5f58d5f8"
      },
      "execution_count": null,
      "outputs": [
        {
          "output_type": "stream",
          "name": "stdout",
          "text": [
            "Dosyanın içeriği:  Doğan Cüceloğlu\n",
            "Küçükçekmece\n",
            "İstanbul\n"
          ]
        }
      ]
    },
    {
      "cell_type": "code",
      "source": [
        "#readline() fonksiyonu"
      ],
      "metadata": {
        "id": "kI2LCZV03OY1"
      },
      "execution_count": null,
      "outputs": []
    },
    {
      "cell_type": "code",
      "source": [
        "file  = open(\"dcfl.txt\", \"r\", encoding = \"utf-8\")\n",
        "print(file.readline())\n",
        "print(file.readline())\n",
        "print(file.readline())"
      ],
      "metadata": {
        "colab": {
          "base_uri": "https://localhost:8080/"
        },
        "id": "Fw5OZu7h6Myt",
        "outputId": "c6f93e8f-1a11-4617-f553-c0bc979d9736"
      },
      "execution_count": null,
      "outputs": [
        {
          "output_type": "stream",
          "name": "stdout",
          "text": [
            "Doğan Cüceloğlu\n",
            "\n",
            "Küçükçekmece\n",
            "\n",
            "İstanbul\n"
          ]
        }
      ]
    },
    {
      "cell_type": "code",
      "source": [
        "#readlines() fonksiyonu"
      ],
      "metadata": {
        "id": "JUHIMq1O6dWq"
      },
      "execution_count": null,
      "outputs": []
    },
    {
      "cell_type": "code",
      "source": [
        "file  = open(\"dcfl.txt\", \"r\", encoding = \"utf-8\")\n",
        "liste = file.readlines()\n",
        "print(liste)\n",
        "print(type(liste[0]))\n",
        "print(\"satır sayıdı: \",len(liste))"
      ],
      "metadata": {
        "colab": {
          "base_uri": "https://localhost:8080/"
        },
        "id": "0QsbAcFB6lNn",
        "outputId": "b663f4a3-1623-4bf7-ad8f-b6f2afb8887f"
      },
      "execution_count": null,
      "outputs": [
        {
          "output_type": "stream",
          "name": "stdout",
          "text": [
            "['Doğan Cüceloğlu\\n', 'Küçükçekmece\\n', 'İstanbul']\n",
            "<class 'str'>\n",
            "satır sayıdı:  3\n"
          ]
        }
      ]
    },
    {
      "cell_type": "code",
      "source": [
        "#Dosyalarda değişiklik yapma"
      ],
      "metadata": {
        "id": "XWT8PXlY7jF_"
      },
      "execution_count": null,
      "outputs": []
    },
    {
      "cell_type": "code",
      "source": [
        "with open(\"dcfl.txt\", \"r\", encoding = \"utf-8\") as file:\n",
        "  print(file.read())"
      ],
      "metadata": {
        "colab": {
          "base_uri": "https://localhost:8080/"
        },
        "id": "XmGGMqL_7qdn",
        "outputId": "c6e554bb-a8c1-4423-cb07-02284956ae00"
      },
      "execution_count": null,
      "outputs": [
        {
          "output_type": "stream",
          "name": "stdout",
          "text": [
            "Doğan Cüceloğlu\n",
            "Küçükçekmece\n",
            "İstanbul\n"
          ]
        }
      ]
    },
    {
      "cell_type": "code",
      "source": [
        "#seek(), write(), r+ okuma ve yazma işlemleri için kullanılır"
      ],
      "metadata": {
        "id": "mkMlHU8L7-Kr"
      },
      "execution_count": null,
      "outputs": []
    },
    {
      "cell_type": "code",
      "source": [
        "with open(\"dcfl.txt\", \"r+\", encoding = \"utf-8\") as file:\n",
        "  file.write(\"Fen Lisesi\\n\")"
      ],
      "metadata": {
        "id": "33l_k4Zh8NOr"
      },
      "execution_count": null,
      "outputs": []
    },
    {
      "cell_type": "code",
      "source": [
        "with open(\"dcfl.txt\", \"r+\", encoding = \"utf-8\") as file:\n",
        "  print(file.read())"
      ],
      "metadata": {
        "colab": {
          "base_uri": "https://localhost:8080/"
        },
        "id": "jkP18MBe8num",
        "outputId": "79278a3d-430e-4afa-ae91-176619c43abc"
      },
      "execution_count": null,
      "outputs": [
        {
          "output_type": "stream",
          "name": "stdout",
          "text": [
            "Fen Lisesi\n",
            "eloğlu\n",
            "Küçükçekmece\n",
            "İstanbul\n"
          ]
        }
      ]
    },
    {
      "cell_type": "code",
      "source": [
        "#dosyanın sonunda değişklik yapmak"
      ],
      "metadata": {
        "id": "VSaRAsX48_LM"
      },
      "execution_count": null,
      "outputs": []
    },
    {
      "cell_type": "code",
      "source": [
        "with open(\"liste.txt\", \"a\", encoding = \"utf-8\") as file:\n",
        "  file.write(\"11-Sınıf\\n\")"
      ],
      "metadata": {
        "id": "8ZRIE4O39pUR"
      },
      "execution_count": null,
      "outputs": []
    },
    {
      "cell_type": "code",
      "source": [
        "with open(\"liste.txt\", \"r\", encoding = \"utf-8\") as file:\n",
        "  print(file.read())"
      ],
      "metadata": {
        "colab": {
          "base_uri": "https://localhost:8080/"
        },
        "id": "9313xYJB90Td",
        "outputId": "1a4e5fab-759b-4b56-a7e3-cbe8c32bc543"
      },
      "execution_count": null,
      "outputs": [
        {
          "output_type": "stream",
          "name": "stdout",
          "text": [
            "1-Sınıf\n",
            "2-Sınıf\n",
            "3-Sınıf\n",
            "4-Sınıf\n",
            "5-Sınıf\n",
            "6-Sınıf\n",
            "7-Sınıf\n",
            "8-Sınıf\n",
            "9-Sınıf\n",
            "10-Sınıf11-Sınıf\n",
            "\n"
          ]
        }
      ]
    },
    {
      "cell_type": "code",
      "source": [
        "sifre = open(\"sifreler.txt\", \"w\", encoding=\"utf-8\")"
      ],
      "metadata": {
        "id": "TQZXlPxD-fuO"
      },
      "execution_count": null,
      "outputs": []
    },
    {
      "cell_type": "code",
      "source": [
        "import secrets"
      ],
      "metadata": {
        "id": "F6T3Az8z-zVm"
      },
      "execution_count": null,
      "outputs": []
    },
    {
      "cell_type": "code",
      "source": [
        "sifre_uzunluk  = 30\n",
        "print(secrets.token_urlsafe(sifre_uzunluk))"
      ],
      "metadata": {
        "colab": {
          "base_uri": "https://localhost:8080/"
        },
        "id": "yWRrMFTY-5OX",
        "outputId": "4eb0b369-f714-424e-ff65-a8d9c8d069be"
      },
      "execution_count": null,
      "outputs": [
        {
          "output_type": "stream",
          "name": "stdout",
          "text": [
            "1rw02ARSbu-Sd8FamgRhEk2lkFb6Px8f-kKWn2pf\n"
          ]
        }
      ]
    },
    {
      "cell_type": "code",
      "source": [
        "with open(\"sifreler.txt\", \"a\", encoding = \"utf-8\") as file:\n",
        "  sifre = secrets.token_urlsafe(sifre_uzunluk)\n",
        "  file.write(f\"Eba-Şifrem: {sifre}\")"
      ],
      "metadata": {
        "id": "TC764wPk_ZGi"
      },
      "execution_count": null,
      "outputs": []
    },
    {
      "cell_type": "code",
      "source": [
        "with open(\"sifreler.txt\", \"r\", encoding = \"utf-8\") as file:\n",
        "  print(file.read())"
      ],
      "metadata": {
        "colab": {
          "base_uri": "https://localhost:8080/"
        },
        "id": "cG7Xu2gu_ubU",
        "outputId": "ff1e287d-34a7-4ecb-f3b6-d88d3da2042c"
      },
      "execution_count": null,
      "outputs": [
        {
          "output_type": "stream",
          "name": "stdout",
          "text": [
            "Eba-Şifrem: DFdTka6o4NVKG2hWjWvQa_eadk6Sx7EnZd7EZSi8\n"
          ]
        }
      ]
    },
    {
      "cell_type": "code",
      "source": [
        "with open(\"sifreler.txt\", \"a\", encoding = \"utf-8\") as file:\n",
        "  sifre = secrets.token_urlsafe(sifre_uzunluk)\n",
        "  file.write(f\"\\nMeb-Şifrem: {sifre}\")"
      ],
      "metadata": {
        "id": "QpheOKmpAOyL"
      },
      "execution_count": null,
      "outputs": []
    },
    {
      "cell_type": "code",
      "source": [
        "with open(\"sifreler.txt\", \"r\", encoding = \"utf-8\") as file:\n",
        "  print(file.read())"
      ],
      "metadata": {
        "colab": {
          "base_uri": "https://localhost:8080/"
        },
        "id": "sfZ0snIkATom",
        "outputId": "e6f94792-6b43-4b71-8cf3-8df6bd01c7df"
      },
      "execution_count": null,
      "outputs": [
        {
          "output_type": "stream",
          "name": "stdout",
          "text": [
            "Eba-Şifrem: DFdTka6o4NVKG2hWjWvQa_eadk6Sx7EnZd7EZSi8\n",
            "Meb-Şifrem: Ejo2a8_pcKYCobXj-voL89vVYqXgwMEcmBdPdiCY\n"
          ]
        }
      ]
    },
    {
      "cell_type": "code",
      "source": [
        "with open(\"sifreler.txt\", \"a\", encoding = \"utf-8\") as file:\n",
        "  sifre = secrets.token_urlsafe(sifre_uzunluk)\n",
        "  file.write(f\"\\nMail-Şifrem: {sifre}\")"
      ],
      "metadata": {
        "id": "WnYkSSiEArJf"
      },
      "execution_count": null,
      "outputs": []
    },
    {
      "cell_type": "code",
      "source": [
        "with open(\"sifreler.txt\", \"r\", encoding = \"utf-8\") as file:\n",
        "  print(file.read())"
      ],
      "metadata": {
        "colab": {
          "base_uri": "https://localhost:8080/"
        },
        "id": "-s8zbStTAwuj",
        "outputId": "35a19fe3-3be9-46f5-b725-3c2d26554664"
      },
      "execution_count": null,
      "outputs": [
        {
          "output_type": "stream",
          "name": "stdout",
          "text": [
            "Eba-Şifrem: DFdTka6o4NVKG2hWjWvQa_eadk6Sx7EnZd7EZSi8\n",
            "Meb-Şifrem: Ejo2a8_pcKYCobXj-voL89vVYqXgwMEcmBdPdiCY\n",
            "Mail-Şifrem: 9OZEcHbGUsPJ7nKpQWOBzLu9b1oZoV2SNRj66a-J\n"
          ]
        }
      ]
    },
    {
      "cell_type": "code",
      "source": [
        "#ödev...notların olduğu bir dosyadan her kesin not ortalamasını hesaplayan bir program...\n",
        "notlar = open(\"notlar.txt\", \"w\", encoding=\"utf-8\")"
      ],
      "metadata": {
        "id": "cRAQbnulBB7l"
      },
      "execution_count": null,
      "outputs": []
    }
  ]
}