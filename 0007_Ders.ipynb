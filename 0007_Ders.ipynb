{
  "nbformat": 4,
  "nbformat_minor": 0,
  "metadata": {
    "colab": {
      "name": "0007_Ders.ipynb",
      "provenance": [],
      "collapsed_sections": []
    },
    "kernelspec": {
      "name": "python3",
      "display_name": "Python 3"
    },
    "language_info": {
      "name": "python"
    }
  },
  "cells": [
    {
      "cell_type": "code",
      "execution_count": null,
      "metadata": {
        "id": "xK3DeEhefKBM"
      },
      "outputs": [],
      "source": [
        "#minik tekrar"
      ]
    },
    {
      "cell_type": "code",
      "source": [
        "def merhaba():\n",
        "  print(\"merhaba kullanıcı\")\n",
        "\n"
      ],
      "metadata": {
        "id": "nMG7FEdyfQTX"
      },
      "execution_count": 3,
      "outputs": []
    },
    {
      "cell_type": "code",
      "source": [
        "merhaba()"
      ],
      "metadata": {
        "colab": {
          "base_uri": "https://localhost:8080/"
        },
        "id": "HQnSVbtkfatZ",
        "outputId": "ff7695ea-b92a-471d-a55d-1de1ccb91f8c"
      },
      "execution_count": 4,
      "outputs": [
        {
          "output_type": "stream",
          "name": "stdout",
          "text": [
            "merhaba kullanıcı\n"
          ]
        }
      ]
    },
    {
      "cell_type": "code",
      "source": [
        "def merhaba2(isim):\n",
        "  print(f\"merhaba, {isim}\")"
      ],
      "metadata": {
        "id": "YZd1RSAXfn3Q"
      },
      "execution_count": 5,
      "outputs": []
    },
    {
      "cell_type": "code",
      "source": [
        "merhaba2(\"Kedi\")"
      ],
      "metadata": {
        "colab": {
          "base_uri": "https://localhost:8080/"
        },
        "id": "zaTF40KjfuEd",
        "outputId": "6ab92cfd-8adf-4356-a523-5f31f71b1f84"
      },
      "execution_count": 6,
      "outputs": [
        {
          "output_type": "stream",
          "name": "stdout",
          "text": [
            "merhaba, Kedi\n"
          ]
        }
      ]
    },
    {
      "cell_type": "code",
      "source": [
        "def toplama(a,b,c):\n",
        "  print(\"Toplamları:\", a+b+c)"
      ],
      "metadata": {
        "id": "oV8kjX5mf4DD"
      },
      "execution_count": 7,
      "outputs": []
    },
    {
      "cell_type": "code",
      "source": [
        "toplama(3,4,5)"
      ],
      "metadata": {
        "colab": {
          "base_uri": "https://localhost:8080/"
        },
        "id": "xTNYQnCFf_pQ",
        "outputId": "c133454d-c261-4d00-e2cb-35203ff26d9c"
      },
      "execution_count": 8,
      "outputs": [
        {
          "output_type": "stream",
          "name": "stdout",
          "text": [
            "Toplamları: 12\n"
          ]
        }
      ]
    },
    {
      "cell_type": "code",
      "source": [
        "def ikiilecarp(a):\n",
        "  return 2*a"
      ],
      "metadata": {
        "id": "4o9bQk8BgblS"
      },
      "execution_count": 9,
      "outputs": []
    },
    {
      "cell_type": "code",
      "source": [
        "ikiilecarp(4)"
      ],
      "metadata": {
        "colab": {
          "base_uri": "https://localhost:8080/"
        },
        "id": "x7iXDB0Igkyz",
        "outputId": "dc663ff4-6b7d-4e7b-91a7-6edfcf44f78c"
      },
      "execution_count": 10,
      "outputs": [
        {
          "output_type": "execute_result",
          "data": {
            "text/plain": [
              "8"
            ]
          },
          "metadata": {},
          "execution_count": 10
        }
      ]
    },
    {
      "cell_type": "code",
      "source": [
        "def ikiiletopla(b):\n",
        "  return 2+b"
      ],
      "metadata": {
        "id": "7aAyKBUxgpst"
      },
      "execution_count": 11,
      "outputs": []
    },
    {
      "cell_type": "code",
      "source": [
        "ikiiletopla(5)"
      ],
      "metadata": {
        "colab": {
          "base_uri": "https://localhost:8080/"
        },
        "id": "Y77B4ZjLgvKm",
        "outputId": "dfbd42b2-d241-47e5-a6ae-2909b061c249"
      },
      "execution_count": 12,
      "outputs": [
        {
          "output_type": "execute_result",
          "data": {
            "text/plain": [
              "7"
            ]
          },
          "metadata": {},
          "execution_count": 12
        }
      ]
    },
    {
      "cell_type": "code",
      "source": [
        "ikiilecarp(ikiilecarp(ikiiletopla(8)))"
      ],
      "metadata": {
        "colab": {
          "base_uri": "https://localhost:8080/"
        },
        "id": "TdMgLCOfg19n",
        "outputId": "588890cd-b690-4319-d03e-fc7e9ce8e642"
      },
      "execution_count": 13,
      "outputs": [
        {
          "output_type": "execute_result",
          "data": {
            "text/plain": [
              "40"
            ]
          },
          "metadata": {},
          "execution_count": 13
        }
      ]
    },
    {
      "cell_type": "code",
      "source": [
        "## ders başlıyor"
      ],
      "metadata": {
        "id": "_z5sU--phG7x"
      },
      "execution_count": null,
      "outputs": []
    },
    {
      "cell_type": "code",
      "source": [
        "def bilgilerigoster(ad = \"null\", soyad = \"null\", numara= \"numarası yok\"):\n",
        "  print(f\"Öğrenci ad soyad: {ad} {soyad}. Numarası: {numara} \")"
      ],
      "metadata": {
        "id": "FpQUuP0XhL9V"
      },
      "execution_count": 19,
      "outputs": []
    },
    {
      "cell_type": "code",
      "source": [
        "bilgilerigoster()"
      ],
      "metadata": {
        "colab": {
          "base_uri": "https://localhost:8080/"
        },
        "id": "1rfUAuOBhluI",
        "outputId": "94ba8035-d2f8-486c-e6d1-0060c51ecc4a"
      },
      "execution_count": 20,
      "outputs": [
        {
          "output_type": "stream",
          "name": "stdout",
          "text": [
            "Öğrenci ad soyad: null null. Numarası: numarası yok \n"
          ]
        }
      ]
    },
    {
      "cell_type": "code",
      "source": [
        "bilgilerigoster(\"veysel\", \"kaya\", 45)"
      ],
      "metadata": {
        "colab": {
          "base_uri": "https://localhost:8080/"
        },
        "id": "BzVtFKMCh1Gf",
        "outputId": "9dd53e6a-e8e2-4ad2-f94f-d907201cc6fa"
      },
      "execution_count": 21,
      "outputs": [
        {
          "output_type": "stream",
          "name": "stdout",
          "text": [
            "Öğrenci ad soyad: veysel kaya. Numarası: 45 \n"
          ]
        }
      ]
    },
    {
      "cell_type": "code",
      "source": [
        "#esnek sayıda değer göndermek"
      ],
      "metadata": {
        "id": "gsSSs1SWiI1-"
      },
      "execution_count": null,
      "outputs": []
    },
    {
      "cell_type": "code",
      "source": [
        "def toplama(a,b,c,d):\n",
        "  print(a+b+c+d)"
      ],
      "metadata": {
        "id": "y_nZ4k0-iMAj"
      },
      "execution_count": 22,
      "outputs": []
    },
    {
      "cell_type": "code",
      "source": [
        "toplama(1,2,3,4)"
      ],
      "metadata": {
        "colab": {
          "base_uri": "https://localhost:8080/"
        },
        "id": "fVfCIe3jiSHH",
        "outputId": "b97945a1-20c4-42c3-e4d9-83e78202c507"
      },
      "execution_count": 23,
      "outputs": [
        {
          "output_type": "stream",
          "name": "stdout",
          "text": [
            "10\n"
          ]
        }
      ]
    },
    {
      "cell_type": "code",
      "source": [
        "def toplam(*degerler):\n",
        "  toplam = 0\n",
        "  print(\"Değerler\", degerler)\n",
        "  for i in degerler:\n",
        "    toplam +=i\n",
        "  return print(\"Toplamları:\", toplam)"
      ],
      "metadata": {
        "id": "ngcveVb-iY-P"
      },
      "execution_count": 27,
      "outputs": []
    },
    {
      "cell_type": "code",
      "source": [
        "toplam(1,2,3,4)"
      ],
      "metadata": {
        "colab": {
          "base_uri": "https://localhost:8080/"
        },
        "id": "VfqBH2i_iqRs",
        "outputId": "39325040-a721-4730-d454-ced6457c2418"
      },
      "execution_count": 28,
      "outputs": [
        {
          "output_type": "stream",
          "name": "stdout",
          "text": [
            "Değerler (1, 2, 3, 4)\n",
            "Toplamları: 10\n"
          ]
        }
      ]
    },
    {
      "cell_type": "code",
      "source": [
        "toplam(1,2,3,4,5,6,7,8,9,10)"
      ],
      "metadata": {
        "colab": {
          "base_uri": "https://localhost:8080/"
        },
        "id": "esY4pDJWiwAR",
        "outputId": "3fb6d509-8865-45df-9874-0e66157808c2"
      },
      "execution_count": 29,
      "outputs": [
        {
          "output_type": "stream",
          "name": "stdout",
          "text": [
            "Değerler (1, 2, 3, 4, 5, 6, 7, 8, 9, 10)\n",
            "Toplamları: 55\n"
          ]
        }
      ]
    },
    {
      "cell_type": "code",
      "source": [
        "#Global ve yerel değişkenler... global değişkenler programnın tamamında kullanılabilir, yerel değişkenler ise sadece tanımlandığı fonksiyon bloğunda akullanılabilir...!\n",
        "#yerel değişkenler fonksiyon bloğu içinde çalışır!"
      ],
      "metadata": {
        "id": "VdyIsN4mjGux"
      },
      "execution_count": 39,
      "outputs": []
    },
    {
      "cell_type": "code",
      "source": [
        "def fonksiyon():\n",
        "  x =10\n",
        "  print(x)"
      ],
      "metadata": {
        "id": "NKwX-dozjTvH"
      },
      "execution_count": 30,
      "outputs": []
    },
    {
      "cell_type": "code",
      "source": [
        "fonksiyon()"
      ],
      "metadata": {
        "colab": {
          "base_uri": "https://localhost:8080/"
        },
        "id": "RglbWXJ6joO5",
        "outputId": "d0feaa30-6b16-4477-a0f9-0bdc7732272a"
      },
      "execution_count": 31,
      "outputs": [
        {
          "output_type": "stream",
          "name": "stdout",
          "text": [
            "10\n"
          ]
        }
      ]
    },
    {
      "cell_type": "code",
      "source": [
        "def fonksiyon():\n",
        "  x =10 #yerel değişken\n",
        "  print(x)\n",
        "\n",
        "fonksiyon()\n",
        "print(x)"
      ],
      "metadata": {
        "colab": {
          "base_uri": "https://localhost:8080/",
          "height": 217
        },
        "id": "O8K05K0Ljtp3",
        "outputId": "3ce4f900-e3dc-4118-b87e-920d24052052"
      },
      "execution_count": 33,
      "outputs": [
        {
          "output_type": "stream",
          "name": "stdout",
          "text": [
            "10\n"
          ]
        },
        {
          "output_type": "error",
          "ename": "NameError",
          "evalue": "ignored",
          "traceback": [
            "\u001b[0;31m---------------------------------------------------------------------------\u001b[0m",
            "\u001b[0;31mNameError\u001b[0m                                 Traceback (most recent call last)",
            "\u001b[0;32m<ipython-input-33-10c3c5d2c78f>\u001b[0m in \u001b[0;36m<module>\u001b[0;34m()\u001b[0m\n\u001b[1;32m      4\u001b[0m \u001b[0;34m\u001b[0m\u001b[0m\n\u001b[1;32m      5\u001b[0m \u001b[0mfonksiyon\u001b[0m\u001b[0;34m(\u001b[0m\u001b[0;34m)\u001b[0m\u001b[0;34m\u001b[0m\u001b[0;34m\u001b[0m\u001b[0m\n\u001b[0;32m----> 6\u001b[0;31m \u001b[0mprint\u001b[0m\u001b[0;34m(\u001b[0m\u001b[0mx\u001b[0m\u001b[0;34m)\u001b[0m\u001b[0;34m\u001b[0m\u001b[0;34m\u001b[0m\u001b[0m\n\u001b[0m",
            "\u001b[0;31mNameError\u001b[0m: name 'x' is not defined"
          ]
        }
      ]
    },
    {
      "cell_type": "code",
      "source": [
        "x =30 #global değişken\n",
        "def fonksiyon():\n",
        "  print(x**2)\n",
        "\n",
        "fonksiyon()\n",
        "print(\"değişkenin değeri: \", x)"
      ],
      "metadata": {
        "colab": {
          "base_uri": "https://localhost:8080/"
        },
        "id": "JdCHEDyTj5UL",
        "outputId": "a7f9faec-e7de-4266-a8ed-b0a12d953549"
      },
      "execution_count": 36,
      "outputs": [
        {
          "output_type": "stream",
          "name": "stdout",
          "text": [
            "900\n",
            "değişkenin değeri:  30\n"
          ]
        }
      ]
    },
    {
      "cell_type": "code",
      "source": [
        "if True:\n",
        "  t =30\n",
        "  print(t)\n",
        "  \n",
        "print(t)"
      ],
      "metadata": {
        "colab": {
          "base_uri": "https://localhost:8080/"
        },
        "id": "T6EaX7V9kYK0",
        "outputId": "9170e6ac-d667-4547-b583-f455d5b30bc4"
      },
      "execution_count": 38,
      "outputs": [
        {
          "output_type": "stream",
          "name": "stdout",
          "text": [
            "30\n",
            "30\n"
          ]
        }
      ]
    },
    {
      "cell_type": "code",
      "source": [
        "def toplama():\n",
        "  print(\"Toplama fonksiyonu çağrıldı\")\n",
        "  a = int(input(\"birinci sayıyı gir: \"))\n",
        "  b = int(input(\"birinci sayıyı gir: \"))\n",
        "  print(f\"Girdiğin sayılar: {a}, {b}. Toplamları {a+b} \")\n",
        "\n",
        "def carpma():\n",
        "  print(\"Çarpma fonksiyonu çağrıldı\")\n",
        "  a = int(input(\"birinci sayıyı gir: \"))\n",
        "  b = int(input(\"birinci sayıyı gir: \"))\n",
        "  print(f\"Girdiğin sayılar: {a}, {b}. Çarpımları {a*b} \")"
      ],
      "metadata": {
        "id": "VSICush0k8e7"
      },
      "execution_count": 63,
      "outputs": []
    },
    {
      "cell_type": "code",
      "source": [
        "def hesapmakinasi(islem):\n",
        "\n",
        "  print(\"lütfen bir işlem seçiniz...\")\n",
        "  print(\"toplama için 1, çarpma için 2'ye basınız...\")\n",
        "  if islem == 1:\n",
        "    toplama()\n",
        "\n",
        "  elif islem == 2:\n",
        "    carpma()\n"
      ],
      "metadata": {
        "id": "HZhMSmS-lfpd"
      },
      "execution_count": 64,
      "outputs": []
    },
    {
      "cell_type": "code",
      "source": [
        "hesapmakinasi(1)"
      ],
      "metadata": {
        "colab": {
          "base_uri": "https://localhost:8080/"
        },
        "id": "-GMJeEAKl7J6",
        "outputId": "f0fc1b21-f700-4413-8a60-4ef9b0179550"
      },
      "execution_count": 65,
      "outputs": [
        {
          "output_type": "stream",
          "name": "stdout",
          "text": [
            "lütfen bir işlem seçiniz...\n",
            "toplama için 1, çarpma için 2'ye basınız...\n",
            "Toplama fonksiyonu çağrıldı\n",
            "birinci sayıyı gir: 5\n",
            "birinci sayıyı gir: 6\n",
            "Girdiğin sayılar: 5, 6. Toplamları 11 \n"
          ]
        }
      ]
    },
    {
      "cell_type": "code",
      "source": [
        "hesapmakinasi(2)"
      ],
      "metadata": {
        "colab": {
          "base_uri": "https://localhost:8080/"
        },
        "id": "BSiuAVE8mnVM",
        "outputId": "b32f1d0b-6216-4c68-eada-00ab45c9d606"
      },
      "execution_count": 66,
      "outputs": [
        {
          "output_type": "stream",
          "name": "stdout",
          "text": [
            "lütfen bir işlem seçiniz...\n",
            "toplama için 1, çarpma için 2'ye basınız...\n",
            "Çarpma fonksiyonu çağrıldı\n",
            "birinci sayıyı gir: 5\n",
            "birinci sayıyı gir: 6\n",
            "Girdiğin sayılar: 5, 6. Çarpımları 30 \n"
          ]
        }
      ]
    },
    {
      "cell_type": "code",
      "source": [
        "#yaş hesaplama, emeklilik hesaplama örnekleriii"
      ],
      "metadata": {
        "id": "TWZA9FWkvRAA"
      },
      "execution_count": null,
      "outputs": []
    },
    {
      "cell_type": "code",
      "source": [
        "#yaş hesaplayn basit fonksiyon"
      ],
      "metadata": {
        "id": "usYzvxavzyQT"
      },
      "execution_count": null,
      "outputs": []
    },
    {
      "cell_type": "code",
      "source": [
        "def yasBul(dogumYili):\n",
        "  return 2022 - dogumYili\n",
        "\n",
        "yasEyup = yasBul(2007)\n",
        "yasBeyza = yasBul(2008)\n",
        "yasBilge = yasBul(2006)\n",
        "\n",
        "print(yasEyup,yasBeyza, yasBilge)\n"
      ],
      "metadata": {
        "colab": {
          "base_uri": "https://localhost:8080/"
        },
        "id": "t7p561L9z053",
        "outputId": "effffecb-bed2-4477-8019-b1af7f5dc6ee"
      },
      "execution_count": 67,
      "outputs": [
        {
          "output_type": "stream",
          "name": "stdout",
          "text": [
            "15 14 16\n"
          ]
        }
      ]
    },
    {
      "cell_type": "code",
      "source": [
        "#Emekliğiğe kaç yıl kaldığını hesaplayan fonk."
      ],
      "metadata": {
        "id": "0LAuLzaR00Jo"
      },
      "execution_count": null,
      "outputs": []
    },
    {
      "cell_type": "code",
      "source": [
        "def emekliligeNeKadarKaldi(dogumYili,isim):\n",
        "  yas = yasBul(dogumYili)\n",
        "  emeklilik = 65 - yas\n",
        "\n",
        "  if emeklilik > 0:\n",
        "    print(f\"emekliliğinize {emeklilik} yıl kaldı. sayın {isim} \")\n",
        "  else:\n",
        "    print(f\"zaten emeklisin..:), sayın {isim}\")\n",
        "\n",
        "\n",
        "emekliligeNeKadarKaldi(1956, \"Veysel amca\")"
      ],
      "metadata": {
        "colab": {
          "base_uri": "https://localhost:8080/"
        },
        "id": "HwKu-EE107wo",
        "outputId": "681e6cb7-4bab-4e79-b33e-5826723e31b5"
      },
      "execution_count": 74,
      "outputs": [
        {
          "output_type": "stream",
          "name": "stdout",
          "text": [
            "zaten emeklisin..:), sayın Veysel amca\n"
          ]
        }
      ]
    },
    {
      "cell_type": "code",
      "source": [
        "emekliligeNeKadarKaldi(1980, \"Gökhan amca\")"
      ],
      "metadata": {
        "colab": {
          "base_uri": "https://localhost:8080/"
        },
        "id": "r5bZ2VZ52kru",
        "outputId": "93802999-e628-4167-fd23-784909dfecbc"
      },
      "execution_count": 75,
      "outputs": [
        {
          "output_type": "stream",
          "name": "stdout",
          "text": [
            "emekliliğinize 23 yıl kaldı. sayın Gökhan amca \n"
          ]
        }
      ]
    },
    {
      "cell_type": "code",
      "source": [
        "emekliligeNeKadarKaldi(1950, \"Buse hala\")"
      ],
      "metadata": {
        "colab": {
          "base_uri": "https://localhost:8080/"
        },
        "id": "qRmQSurJ2oSf",
        "outputId": "c32975c0-4dec-497f-c1bb-1c9ad9191b1f"
      },
      "execution_count": 77,
      "outputs": [
        {
          "output_type": "stream",
          "name": "stdout",
          "text": [
            "zaten emeklisin..:), sayın Buse hala\n"
          ]
        }
      ]
    },
    {
      "cell_type": "code",
      "source": [
        "#3-4-5, 7-24-25, 5-12-13....\n",
        "#kenarları tamsayı olan pisagor üçgenleri bulma.... c^2 = a^2+b^2....c = (a^2+b^2)**0.5"
      ],
      "metadata": {
        "id": "2PpXVotN2xcT"
      },
      "execution_count": null,
      "outputs": []
    },
    {
      "cell_type": "code",
      "source": [
        "def pisagoruBul():\n",
        "  pisagor_listesi = []\n",
        "  for a in range(1,11):\n",
        "    for b in range(1,11):\n",
        "      c = (a**2 + b**2)**0.5\n",
        "      if c == int(c):\n",
        "        pisagor_listesi.append((a,b,int(c)))\n",
        "\n",
        "  return pisagor_listesi\n",
        "\n",
        "\n",
        " \n"
      ],
      "metadata": {
        "id": "ZdxLnCP62_sW"
      },
      "execution_count": 89,
      "outputs": []
    },
    {
      "cell_type": "code",
      "source": [
        "pisagoruBul()"
      ],
      "metadata": {
        "colab": {
          "base_uri": "https://localhost:8080/"
        },
        "id": "EZ4iZ-hN3-w1",
        "outputId": "7d515d84-c769-4612-f653-e7a83534976b"
      },
      "execution_count": 90,
      "outputs": [
        {
          "output_type": "execute_result",
          "data": {
            "text/plain": [
              "[(3, 4, 5), (4, 3, 5), (6, 8, 10), (8, 6, 10)]"
            ]
          },
          "metadata": {},
          "execution_count": 90
        }
      ]
    },
    {
      "cell_type": "code",
      "source": [
        "#mükemmel sayı fonksiyon örneği...6 = 1,2,3,6... 1+2+3=6 ise 6 mükemmel bie sayıdır...12...1,2,3,4,6"
      ],
      "metadata": {
        "id": "B04MXSev5LvC"
      },
      "execution_count": null,
      "outputs": []
    },
    {
      "cell_type": "code",
      "source": [
        "def mukemmelMi(sayi):\n",
        "  toplam = 0\n",
        "\n",
        "  for i in range(1,sayi):\n",
        "    if sayi %i == 0:\n",
        "      toplam +=i\n",
        "  \n",
        "  return toplam == sayi\n",
        "\n",
        "for i in range(1,10001):\n",
        "  if mukemmelMi(i):\n",
        "    print(f\"{i}....-> mükemmel sayıdır\")"
      ],
      "metadata": {
        "colab": {
          "base_uri": "https://localhost:8080/"
        },
        "id": "FpCEGRsl5O5g",
        "outputId": "13cec838-3453-4e15-ed81-ae040af95a84"
      },
      "execution_count": 100,
      "outputs": [
        {
          "output_type": "stream",
          "name": "stdout",
          "text": [
            "6....-> mükemmel sayıdır\n",
            "28....-> mükemmel sayıdır\n",
            "496....-> mükemmel sayıdır\n",
            "8128....-> mükemmel sayıdır\n"
          ]
        }
      ]
    },
    {
      "cell_type": "code",
      "source": [
        "mukemmelMi(6)"
      ],
      "metadata": {
        "colab": {
          "base_uri": "https://localhost:8080/"
        },
        "id": "2fgm_Sd-6NTu",
        "outputId": "888be000-e18b-4e62-8e94-22a104170691"
      },
      "execution_count": 101,
      "outputs": [
        {
          "output_type": "execute_result",
          "data": {
            "text/plain": [
              "True"
            ]
          },
          "metadata": {},
          "execution_count": 101
        }
      ]
    },
    {
      "cell_type": "code",
      "source": [
        "mukemmelMi(12)"
      ],
      "metadata": {
        "colab": {
          "base_uri": "https://localhost:8080/"
        },
        "id": "MYEZ2oMp6SKE",
        "outputId": "7d5fb50b-aedb-44f4-bc2b-f3da40eaa2a6"
      },
      "execution_count": 102,
      "outputs": [
        {
          "output_type": "execute_result",
          "data": {
            "text/plain": [
              "False"
            ]
          },
          "metadata": {},
          "execution_count": 102
        }
      ]
    },
    {
      "cell_type": "code",
      "source": [
        "#ebob bulan fonksiyon....\n",
        "def ebob_bul(sayi1,sayi2):\n",
        "  i = 1\n",
        "  ebob = 1\n",
        "\n",
        "  while (i<=sayi1 and i<=sayi2):\n",
        "    if (not(sayi1 %i) and not(sayi2%i)):\n",
        "      ebob = i\n",
        "    i +=1\n",
        "  return ebob\n",
        "sayi1 = int(input(\"Sayı1: \"))\n",
        "sayi2 = int(input(\"Sayı2: \"))\n",
        "\n",
        "print(\"Ebob.....\", ebob_bul(sayi1,sayi2))\n"
      ],
      "metadata": {
        "colab": {
          "base_uri": "https://localhost:8080/"
        },
        "id": "BkRbjt5H7VHi",
        "outputId": "c18a9423-c451-4d7c-a9e3-2466e2593f21"
      },
      "execution_count": 103,
      "outputs": [
        {
          "output_type": "stream",
          "name": "stdout",
          "text": [
            "Sayı1: 10\n",
            "Sayı2: 15\n",
            "Ebob..... 5\n"
          ]
        }
      ]
    },
    {
      "cell_type": "code",
      "source": [
        "#ödev....EKOK bulma"
      ],
      "metadata": {
        "id": "_JMFU3j-8uoa"
      },
      "execution_count": null,
      "outputs": []
    }
  ]
}