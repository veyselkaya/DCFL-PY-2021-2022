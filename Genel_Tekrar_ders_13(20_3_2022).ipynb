{
  "nbformat": 4,
  "nbformat_minor": 0,
  "metadata": {
    "colab": {
      "name": "Genel_Tekrar_ders_13(20.3.2022).ipynb",
      "provenance": []
    },
    "kernelspec": {
      "name": "python3",
      "display_name": "Python 3"
    },
    "language_info": {
      "name": "python"
    }
  },
  "cells": [
    {
      "cell_type": "code",
      "execution_count": 7,
      "metadata": {
        "colab": {
          "base_uri": "https://localhost:8080/"
        },
        "id": "Ygy0z591EbfK",
        "outputId": "05975380-d97a-47fc-de87-3812d08f125d"
      },
      "outputs": [
        {
          "output_type": "stream",
          "name": "stdout",
          "text": [
            "0\n",
            "1\n",
            "2\n",
            "3\n",
            "4\n",
            "5\n",
            "6\n",
            "7\n",
            "8\n",
            "9\n"
          ]
        }
      ],
      "source": [
        "#while döngüsü\n",
        "i=0\n",
        "while i<10:\n",
        "  print(f\"{i}\")\n",
        "  i+=1\n",
        "  \n"
      ]
    },
    {
      "cell_type": "code",
      "source": [
        "#while true...\n",
        "#girilen sayının tel mi, çift mi olduğunu ekrana yazan program.. kullanıcı tarafından sonlandırıldığı ana kadar devam etsin...\n",
        "\n",
        "while True:\n",
        "  sayi = input(\"sayıyı gir: \")\n",
        "  if sayi == \"q\":\n",
        "    print(\"Çıkış yapıldı...\")\n",
        "    break\n",
        "  sayi = int(sayi)\n",
        "  if sayi %2==0:\n",
        "    print(f\"{sayi} çifttir..\")\n",
        "  else:\n",
        "    print(f\"{sayi} tektir..\")"
      ],
      "metadata": {
        "colab": {
          "base_uri": "https://localhost:8080/"
        },
        "id": "Zd9hVgloFeQw",
        "outputId": "6035e08a-0d4a-4954-e674-da0cc8691f25"
      },
      "execution_count": 13,
      "outputs": [
        {
          "output_type": "stream",
          "name": "stdout",
          "text": [
            "sayıyı gir: 5\n",
            "5 tektir..\n",
            "sayıyı gir: 6\n",
            "6 çifttir..\n",
            "sayıyı gir: 34\n",
            "34 çifttir..\n",
            "sayıyı gir: q\n",
            "Çıkış yapıldı...\n"
          ]
        }
      ]
    },
    {
      "cell_type": "code",
      "source": [
        "#istenilen sayıda toplama işlemi yapan program\n",
        "toplam = 0\n",
        "liste = []\n",
        "while True:\n",
        "  sayi = input(\"sayıyı gir: \")\n",
        "  if sayi == \"q\":\n",
        "    print(\"program sonlandırıldı...\")\n",
        "    break\n",
        "  sayi = int(sayi)\n",
        "  liste.append(sayi)\n",
        "  toplam +=sayi\n",
        "  #toplam = toplam + sayi\n",
        "print(f\"Girdiğiniz bütün sayıların toplamı: {toplam}\")\n",
        "print(f\"Ürünlerin fiyatları: {liste} \")\n"
      ],
      "metadata": {
        "colab": {
          "base_uri": "https://localhost:8080/"
        },
        "id": "RL7BpWXXHgN6",
        "outputId": "5a297956-18a4-415e-b89c-5f9c590f3118"
      },
      "execution_count": 16,
      "outputs": [
        {
          "output_type": "stream",
          "name": "stdout",
          "text": [
            "sayıyı gir: 10\n",
            "sayıyı gir: 20\n",
            "sayıyı gir: 30\n",
            "sayıyı gir: 45\n",
            "sayıyı gir: 56\n",
            "sayıyı gir: 76\n",
            "sayıyı gir: 89\n",
            "sayıyı gir: 45\n",
            "sayıyı gir: 67\n",
            "sayıyı gir: 45\n",
            "sayıyı gir: q\n",
            "program sonlandırıldı...\n",
            "Girdiğiniz bütün sayıların toplamı: 483\n",
            "ürünlerin fiyatları: [10, 20, 30, 45, 56, 76, 89, 45, 67, 45] \n"
          ]
        }
      ]
    },
    {
      "cell_type": "code",
      "source": [
        "#çarpım tablosu uygulaması....\n",
        "for i in range(1,11):\n",
        "  print(10*\"*\")\n",
        "  for j in range(1,11):\n",
        "    print(f\"{i}x{j}= {i*j}\")\n",
        "  \n"
      ],
      "metadata": {
        "colab": {
          "base_uri": "https://localhost:8080/"
        },
        "id": "HJxxosRCJXFD",
        "outputId": "92b34510-e941-4b94-8c20-a1b823bf22dd"
      },
      "execution_count": 19,
      "outputs": [
        {
          "output_type": "stream",
          "name": "stdout",
          "text": [
            "**********\n",
            "1x1= 1\n",
            "1x2= 2\n",
            "1x3= 3\n",
            "1x4= 4\n",
            "1x5= 5\n",
            "1x6= 6\n",
            "1x7= 7\n",
            "1x8= 8\n",
            "1x9= 9\n",
            "1x10= 10\n",
            "**********\n",
            "2x1= 2\n",
            "2x2= 4\n",
            "2x3= 6\n",
            "2x4= 8\n",
            "2x5= 10\n",
            "2x6= 12\n",
            "2x7= 14\n",
            "2x8= 16\n",
            "2x9= 18\n",
            "2x10= 20\n",
            "**********\n",
            "3x1= 3\n",
            "3x2= 6\n",
            "3x3= 9\n",
            "3x4= 12\n",
            "3x5= 15\n",
            "3x6= 18\n",
            "3x7= 21\n",
            "3x8= 24\n",
            "3x9= 27\n",
            "3x10= 30\n",
            "**********\n",
            "4x1= 4\n",
            "4x2= 8\n",
            "4x3= 12\n",
            "4x4= 16\n",
            "4x5= 20\n",
            "4x6= 24\n",
            "4x7= 28\n",
            "4x8= 32\n",
            "4x9= 36\n",
            "4x10= 40\n",
            "**********\n",
            "5x1= 5\n",
            "5x2= 10\n",
            "5x3= 15\n",
            "5x4= 20\n",
            "5x5= 25\n",
            "5x6= 30\n",
            "5x7= 35\n",
            "5x8= 40\n",
            "5x9= 45\n",
            "5x10= 50\n",
            "**********\n",
            "6x1= 6\n",
            "6x2= 12\n",
            "6x3= 18\n",
            "6x4= 24\n",
            "6x5= 30\n",
            "6x6= 36\n",
            "6x7= 42\n",
            "6x8= 48\n",
            "6x9= 54\n",
            "6x10= 60\n",
            "**********\n",
            "7x1= 7\n",
            "7x2= 14\n",
            "7x3= 21\n",
            "7x4= 28\n",
            "7x5= 35\n",
            "7x6= 42\n",
            "7x7= 49\n",
            "7x8= 56\n",
            "7x9= 63\n",
            "7x10= 70\n",
            "**********\n",
            "8x1= 8\n",
            "8x2= 16\n",
            "8x3= 24\n",
            "8x4= 32\n",
            "8x5= 40\n",
            "8x6= 48\n",
            "8x7= 56\n",
            "8x8= 64\n",
            "8x9= 72\n",
            "8x10= 80\n",
            "**********\n",
            "9x1= 9\n",
            "9x2= 18\n",
            "9x3= 27\n",
            "9x4= 36\n",
            "9x5= 45\n",
            "9x6= 54\n",
            "9x7= 63\n",
            "9x8= 72\n",
            "9x9= 81\n",
            "9x10= 90\n",
            "**********\n",
            "10x1= 10\n",
            "10x2= 20\n",
            "10x3= 30\n",
            "10x4= 40\n",
            "10x5= 50\n",
            "10x6= 60\n",
            "10x7= 70\n",
            "10x8= 80\n",
            "10x9= 90\n",
            "10x10= 100\n"
          ]
        }
      ]
    },
    {
      "cell_type": "code",
      "source": [
        "#Ödev: iç içe geçen for döngüsü ile 1, den 30'a kadar sayıların karelerini ve küplerini hsaplayan program yazınız\n",
        "#Ödev2: While true döngüsü kullanılarak küçük bir hesap makinası yapınız...\n"
      ],
      "metadata": {
        "id": "Gu5gjXwLK6GX"
      },
      "execution_count": null,
      "outputs": []
    },
    {
      "cell_type": "code",
      "source": [
        "#fonksiyonlar...\n",
        "\n",
        "def selamlama():\n",
        "  ad = input(\"adını gir: \")\n",
        "  print(f\"Hoşgeldin {ad} \")"
      ],
      "metadata": {
        "id": "gEk_LpIBLGOh"
      },
      "execution_count": 20,
      "outputs": []
    },
    {
      "cell_type": "code",
      "source": [
        "selamlama()"
      ],
      "metadata": {
        "colab": {
          "base_uri": "https://localhost:8080/"
        },
        "id": "_rHcQRNNLaIt",
        "outputId": "e9410fd0-f303-403b-f443-a1bd237544cd"
      },
      "execution_count": 21,
      "outputs": [
        {
          "output_type": "stream",
          "name": "stdout",
          "text": [
            "adını gir: Veysel\n",
            "Hoşgeldin Veysel \n"
          ]
        }
      ]
    },
    {
      "cell_type": "code",
      "source": [
        "def toplama():\n",
        "  print(\"Toplam fonksiyonu çağrıldı\")\n",
        "  a = int(input(\"1. sayıyı git: \"))\n",
        "  b = int(input(\"2. sayıyı git: \"))\n",
        "  print(f\"girdiğin sayılar: {a} ve {b}. Toplamları: {a+b}\")\n",
        "  #print(\"Girdiğin sayılar\",a,b,\"Toplamları: \", toplam )"
      ],
      "metadata": {
        "id": "uNbsjquULmD2"
      },
      "execution_count": 28,
      "outputs": []
    },
    {
      "cell_type": "code",
      "source": [
        "toplama()"
      ],
      "metadata": {
        "colab": {
          "base_uri": "https://localhost:8080/"
        },
        "id": "jBQJPxIsL9PN",
        "outputId": "0e6282a8-66f9-4408-f057-dffdfd6f8512"
      },
      "execution_count": 29,
      "outputs": [
        {
          "output_type": "stream",
          "name": "stdout",
          "text": [
            "Toplam fonksiyonu çağrıldı\n",
            "1. sayıyı git: 4\n",
            "2. sayıyı git: 5\n",
            "girdiğin sayılar: 4 ve 5. Toplamları: 9\n"
          ]
        }
      ]
    },
    {
      "cell_type": "code",
      "source": [
        "#öğrenci kayıt sistemi\n",
        "ogrenci_listesi = [] #excel dosyasını düşünün..!\n",
        "def ogrenci_kayit():\n",
        "  ad_soyad = input(\"Adınız soyadınız..\")\n",
        "  ogrenci_listesi.append(ad_soyad)\n",
        "  print(\"Kayıt işlemin başarılı... Tebrikler...\")\n",
        "  print(f\"Okulumuza hoş geldin: {ad_soyad} \")"
      ],
      "metadata": {
        "id": "SsLuf5ohP3RB"
      },
      "execution_count": 31,
      "outputs": []
    },
    {
      "cell_type": "code",
      "source": [
        "ogrenci_kayit()"
      ],
      "metadata": {
        "colab": {
          "base_uri": "https://localhost:8080/"
        },
        "id": "ELZBsF3CQvwe",
        "outputId": "09db1055-f841-4192-a2e8-de7d9fbe3395"
      },
      "execution_count": 32,
      "outputs": [
        {
          "output_type": "stream",
          "name": "stdout",
          "text": [
            "Adınız soyadınız..Veysel Kaya\n",
            "Kayıt işlemin başarılı... Tebrikler...\n",
            "Okulumuza hoş geldin: Veysel Kaya \n"
          ]
        }
      ]
    },
    {
      "cell_type": "code",
      "source": [
        "ogrenci_listesi"
      ],
      "metadata": {
        "colab": {
          "base_uri": "https://localhost:8080/"
        },
        "id": "za85gwvxQ86B",
        "outputId": "14247af3-8da3-407f-84bd-ad332ce812ea"
      },
      "execution_count": 33,
      "outputs": [
        {
          "output_type": "execute_result",
          "data": {
            "text/plain": [
              "['Veysel Kaya']"
            ]
          },
          "metadata": {},
          "execution_count": 33
        }
      ]
    },
    {
      "cell_type": "code",
      "source": [
        "ogrenci_kayit()"
      ],
      "metadata": {
        "colab": {
          "base_uri": "https://localhost:8080/"
        },
        "id": "laTdUvrhQ_qf",
        "outputId": "368813e2-f6d7-4a0e-a2f1-dcb0c517d63e"
      },
      "execution_count": 35,
      "outputs": [
        {
          "output_type": "stream",
          "name": "stdout",
          "text": [
            "Adınız soyadınız..Mert Bozdağ\n",
            "Kayıt işlemin başarılı... Tebrikler...\n",
            "Okulumuza hoş geldin: Mert Bozdağ \n"
          ]
        }
      ]
    },
    {
      "cell_type": "code",
      "source": [
        "ogrenci_listesi"
      ],
      "metadata": {
        "colab": {
          "base_uri": "https://localhost:8080/"
        },
        "id": "q373vccXRJdh",
        "outputId": "d39c0994-e502-4867-ea8c-a7bbbfdfd9d6"
      },
      "execution_count": 36,
      "outputs": [
        {
          "output_type": "execute_result",
          "data": {
            "text/plain": [
              "['Veysel Kaya', 'Ard Akural', 'Mert Bozdağ']"
            ]
          },
          "metadata": {},
          "execution_count": 36
        }
      ]
    },
    {
      "cell_type": "code",
      "source": [
        "def ogrenci_sayisi():\n",
        "  sayi = len(ogrenci_listesi)\n",
        "  print(f\"Kayıtlı öğrenciler: {ogrenci_listesi}\")\n",
        "  print(f\"Kayıtlı öğrenci sayısı: {sayi} \")\n",
        "\n",
        "  for i in ogrenci_listesi:\n",
        "    print(i)\n"
      ],
      "metadata": {
        "id": "rW54FdzpRVFX"
      },
      "execution_count": 46,
      "outputs": []
    },
    {
      "cell_type": "code",
      "source": [
        "ogrenci_sayisi()"
      ],
      "metadata": {
        "colab": {
          "base_uri": "https://localhost:8080/"
        },
        "id": "G47TTxRtR9N1",
        "outputId": "4696e047-3999-4888-b9fc-dde5f8967b61"
      },
      "execution_count": 43,
      "outputs": [
        {
          "output_type": "stream",
          "name": "stdout",
          "text": [
            "Kayıtlı öğrenciler: ['Veysel Kaya', 'Ard Akural', 'Mert Bozdağ']\n",
            "Kayıtlı öğrenci sayısı: 3 \n"
          ]
        }
      ]
    },
    {
      "cell_type": "code",
      "source": [
        "ogrenci_kayit()"
      ],
      "metadata": {
        "colab": {
          "base_uri": "https://localhost:8080/"
        },
        "id": "KEHA4EDaSOY8",
        "outputId": "f32ebe73-bd75-47e4-c204-d6d00377c6c4"
      },
      "execution_count": 44,
      "outputs": [
        {
          "output_type": "stream",
          "name": "stdout",
          "text": [
            "Adınız soyadınız..Ayşenur Topal\n",
            "Kayıt işlemin başarılı... Tebrikler...\n",
            "Okulumuza hoş geldin: Ayşenur Topal \n"
          ]
        }
      ]
    },
    {
      "cell_type": "code",
      "source": [
        "ogrenci_sayisi()"
      ],
      "metadata": {
        "colab": {
          "base_uri": "https://localhost:8080/"
        },
        "id": "xoZtdle1SWhm",
        "outputId": "7f695785-2cdd-4861-ebbc-bf27232c40e0"
      },
      "execution_count": 47,
      "outputs": [
        {
          "output_type": "stream",
          "name": "stdout",
          "text": [
            "Kayıtlı öğrenciler: ['Veysel Kaya', 'Ard Akural', 'Mert Bozdağ', 'Ayşenur Topal']\n",
            "Kayıtlı öğrenci sayısı: 4 \n",
            "Veysel Kaya\n",
            "Ard Akural\n",
            "Mert Bozdağ\n",
            "Ayşenur Topal\n"
          ]
        }
      ]
    },
    {
      "cell_type": "code",
      "source": [
        "#return.....bir fonksiyınun ürettiği bir değri başka bir fonksiyonda kullanmak için bir yöntem"
      ],
      "metadata": {
        "id": "PSipgRlESq55"
      },
      "execution_count": null,
      "outputs": []
    },
    {
      "cell_type": "code",
      "source": [
        "def iki_ile_carp(sayi):\n",
        "  return  2*sayi"
      ],
      "metadata": {
        "id": "ONd94E_5SzA8"
      },
      "execution_count": 48,
      "outputs": []
    },
    {
      "cell_type": "code",
      "source": [
        "iki_ile_carp(2)"
      ],
      "metadata": {
        "colab": {
          "base_uri": "https://localhost:8080/"
        },
        "id": "TZkTDNlOS7A-",
        "outputId": "21797321-fc48-4ed9-bff2-95aba615bd7e"
      },
      "execution_count": 49,
      "outputs": [
        {
          "output_type": "execute_result",
          "data": {
            "text/plain": [
              "4"
            ]
          },
          "metadata": {},
          "execution_count": 49
        }
      ]
    },
    {
      "cell_type": "code",
      "source": [
        "def uc_ile_bol(sayi):\n",
        "  return sayi/3"
      ],
      "metadata": {
        "id": "a1viTP3BTCeW"
      },
      "execution_count": 50,
      "outputs": []
    },
    {
      "cell_type": "code",
      "source": [
        "uc_ile_bol(12)"
      ],
      "metadata": {
        "colab": {
          "base_uri": "https://localhost:8080/"
        },
        "id": "w_n__2ZKTIgP",
        "outputId": "3beb1ee7-452f-4f02-f9eb-310c3b06dc22"
      },
      "execution_count": 51,
      "outputs": [
        {
          "output_type": "execute_result",
          "data": {
            "text/plain": [
              "4.0"
            ]
          },
          "metadata": {},
          "execution_count": 51
        }
      ]
    },
    {
      "cell_type": "code",
      "source": [
        "iki_ile_carp(uc_ile_bol(12))"
      ],
      "metadata": {
        "colab": {
          "base_uri": "https://localhost:8080/"
        },
        "id": "cMxerBqqTVQw",
        "outputId": "55a3fecd-d9b8-4283-d7a4-fba20fb35c32"
      },
      "execution_count": 52,
      "outputs": [
        {
          "output_type": "execute_result",
          "data": {
            "text/plain": [
              "8.0"
            ]
          },
          "metadata": {},
          "execution_count": 52
        }
      ]
    },
    {
      "cell_type": "code",
      "source": [
        "#modüler....(hazır fonksiyonların olduğu kütüphaneler...)\n"
      ],
      "metadata": {
        "id": "A5WDt_p3T38r"
      },
      "execution_count": null,
      "outputs": []
    },
    {
      "cell_type": "code",
      "source": [
        "import math as m"
      ],
      "metadata": {
        "id": "8NLIR9EPUDQl"
      },
      "execution_count": 57,
      "outputs": []
    },
    {
      "cell_type": "code",
      "source": [
        "m.pow(2,5)"
      ],
      "metadata": {
        "colab": {
          "base_uri": "https://localhost:8080/"
        },
        "id": "EEqLm6DhUMwt",
        "outputId": "d6728e1a-634f-45a3-c35a-1b5661ca52b6"
      },
      "execution_count": 58,
      "outputs": [
        {
          "output_type": "execute_result",
          "data": {
            "text/plain": [
              "32.0"
            ]
          },
          "metadata": {},
          "execution_count": 58
        }
      ]
    },
    {
      "cell_type": "code",
      "source": [
        "m.sin(30)"
      ],
      "metadata": {
        "colab": {
          "base_uri": "https://localhost:8080/"
        },
        "id": "XoxYGt-LUkS9",
        "outputId": "1b3109f8-f188-4338-c455-cbd5224971d8"
      },
      "execution_count": 59,
      "outputs": [
        {
          "output_type": "execute_result",
          "data": {
            "text/plain": [
              "-0.9880316240928618"
            ]
          },
          "metadata": {},
          "execution_count": 59
        }
      ]
    },
    {
      "cell_type": "code",
      "source": [
        "help(m)"
      ],
      "metadata": {
        "colab": {
          "base_uri": "https://localhost:8080/"
        },
        "id": "MZlnZ1SoUv7C",
        "outputId": "01064b13-0a0c-45d7-b9b2-d37fddf29a19"
      },
      "execution_count": 60,
      "outputs": [
        {
          "output_type": "stream",
          "name": "stdout",
          "text": [
            "Help on built-in module math:\n",
            "\n",
            "NAME\n",
            "    math\n",
            "\n",
            "DESCRIPTION\n",
            "    This module provides access to the mathematical functions\n",
            "    defined by the C standard.\n",
            "\n",
            "FUNCTIONS\n",
            "    acos(x, /)\n",
            "        Return the arc cosine (measured in radians) of x.\n",
            "    \n",
            "    acosh(x, /)\n",
            "        Return the inverse hyperbolic cosine of x.\n",
            "    \n",
            "    asin(x, /)\n",
            "        Return the arc sine (measured in radians) of x.\n",
            "    \n",
            "    asinh(x, /)\n",
            "        Return the inverse hyperbolic sine of x.\n",
            "    \n",
            "    atan(x, /)\n",
            "        Return the arc tangent (measured in radians) of x.\n",
            "    \n",
            "    atan2(y, x, /)\n",
            "        Return the arc tangent (measured in radians) of y/x.\n",
            "        \n",
            "        Unlike atan(y/x), the signs of both x and y are considered.\n",
            "    \n",
            "    atanh(x, /)\n",
            "        Return the inverse hyperbolic tangent of x.\n",
            "    \n",
            "    ceil(x, /)\n",
            "        Return the ceiling of x as an Integral.\n",
            "        \n",
            "        This is the smallest integer >= x.\n",
            "    \n",
            "    copysign(x, y, /)\n",
            "        Return a float with the magnitude (absolute value) of x but the sign of y.\n",
            "        \n",
            "        On platforms that support signed zeros, copysign(1.0, -0.0)\n",
            "        returns -1.0.\n",
            "    \n",
            "    cos(x, /)\n",
            "        Return the cosine of x (measured in radians).\n",
            "    \n",
            "    cosh(x, /)\n",
            "        Return the hyperbolic cosine of x.\n",
            "    \n",
            "    degrees(x, /)\n",
            "        Convert angle x from radians to degrees.\n",
            "    \n",
            "    erf(x, /)\n",
            "        Error function at x.\n",
            "    \n",
            "    erfc(x, /)\n",
            "        Complementary error function at x.\n",
            "    \n",
            "    exp(x, /)\n",
            "        Return e raised to the power of x.\n",
            "    \n",
            "    expm1(x, /)\n",
            "        Return exp(x)-1.\n",
            "        \n",
            "        This function avoids the loss of precision involved in the direct evaluation of exp(x)-1 for small x.\n",
            "    \n",
            "    fabs(x, /)\n",
            "        Return the absolute value of the float x.\n",
            "    \n",
            "    factorial(x, /)\n",
            "        Find x!.\n",
            "        \n",
            "        Raise a ValueError if x is negative or non-integral.\n",
            "    \n",
            "    floor(x, /)\n",
            "        Return the floor of x as an Integral.\n",
            "        \n",
            "        This is the largest integer <= x.\n",
            "    \n",
            "    fmod(x, y, /)\n",
            "        Return fmod(x, y), according to platform C.\n",
            "        \n",
            "        x % y may differ.\n",
            "    \n",
            "    frexp(x, /)\n",
            "        Return the mantissa and exponent of x, as pair (m, e).\n",
            "        \n",
            "        m is a float and e is an int, such that x = m * 2.**e.\n",
            "        If x is 0, m and e are both 0.  Else 0.5 <= abs(m) < 1.0.\n",
            "    \n",
            "    fsum(seq, /)\n",
            "        Return an accurate floating point sum of values in the iterable seq.\n",
            "        \n",
            "        Assumes IEEE-754 floating point arithmetic.\n",
            "    \n",
            "    gamma(x, /)\n",
            "        Gamma function at x.\n",
            "    \n",
            "    gcd(x, y, /)\n",
            "        greatest common divisor of x and y\n",
            "    \n",
            "    hypot(x, y, /)\n",
            "        Return the Euclidean distance, sqrt(x*x + y*y).\n",
            "    \n",
            "    isclose(a, b, *, rel_tol=1e-09, abs_tol=0.0)\n",
            "        Determine whether two floating point numbers are close in value.\n",
            "        \n",
            "          rel_tol\n",
            "            maximum difference for being considered \"close\", relative to the\n",
            "            magnitude of the input values\n",
            "          abs_tol\n",
            "            maximum difference for being considered \"close\", regardless of the\n",
            "            magnitude of the input values\n",
            "        \n",
            "        Return True if a is close in value to b, and False otherwise.\n",
            "        \n",
            "        For the values to be considered close, the difference between them\n",
            "        must be smaller than at least one of the tolerances.\n",
            "        \n",
            "        -inf, inf and NaN behave similarly to the IEEE 754 Standard.  That\n",
            "        is, NaN is not close to anything, even itself.  inf and -inf are\n",
            "        only close to themselves.\n",
            "    \n",
            "    isfinite(x, /)\n",
            "        Return True if x is neither an infinity nor a NaN, and False otherwise.\n",
            "    \n",
            "    isinf(x, /)\n",
            "        Return True if x is a positive or negative infinity, and False otherwise.\n",
            "    \n",
            "    isnan(x, /)\n",
            "        Return True if x is a NaN (not a number), and False otherwise.\n",
            "    \n",
            "    ldexp(x, i, /)\n",
            "        Return x * (2**i).\n",
            "        \n",
            "        This is essentially the inverse of frexp().\n",
            "    \n",
            "    lgamma(x, /)\n",
            "        Natural logarithm of absolute value of Gamma function at x.\n",
            "    \n",
            "    log(...)\n",
            "        log(x, [base=math.e])\n",
            "        Return the logarithm of x to the given base.\n",
            "        \n",
            "        If the base not specified, returns the natural logarithm (base e) of x.\n",
            "    \n",
            "    log10(x, /)\n",
            "        Return the base 10 logarithm of x.\n",
            "    \n",
            "    log1p(x, /)\n",
            "        Return the natural logarithm of 1+x (base e).\n",
            "        \n",
            "        The result is computed in a way which is accurate for x near zero.\n",
            "    \n",
            "    log2(x, /)\n",
            "        Return the base 2 logarithm of x.\n",
            "    \n",
            "    modf(x, /)\n",
            "        Return the fractional and integer parts of x.\n",
            "        \n",
            "        Both results carry the sign of x and are floats.\n",
            "    \n",
            "    pow(x, y, /)\n",
            "        Return x**y (x to the power of y).\n",
            "    \n",
            "    radians(x, /)\n",
            "        Convert angle x from degrees to radians.\n",
            "    \n",
            "    remainder(x, y, /)\n",
            "        Difference between x and the closest integer multiple of y.\n",
            "        \n",
            "        Return x - n*y where n*y is the closest integer multiple of y.\n",
            "        In the case where x is exactly halfway between two multiples of\n",
            "        y, the nearest even value of n is used. The result is always exact.\n",
            "    \n",
            "    sin(x, /)\n",
            "        Return the sine of x (measured in radians).\n",
            "    \n",
            "    sinh(x, /)\n",
            "        Return the hyperbolic sine of x.\n",
            "    \n",
            "    sqrt(x, /)\n",
            "        Return the square root of x.\n",
            "    \n",
            "    tan(x, /)\n",
            "        Return the tangent of x (measured in radians).\n",
            "    \n",
            "    tanh(x, /)\n",
            "        Return the hyperbolic tangent of x.\n",
            "    \n",
            "    trunc(x, /)\n",
            "        Truncates the Real x to the nearest Integral toward 0.\n",
            "        \n",
            "        Uses the __trunc__ magic method.\n",
            "\n",
            "DATA\n",
            "    e = 2.718281828459045\n",
            "    inf = inf\n",
            "    nan = nan\n",
            "    pi = 3.141592653589793\n",
            "    tau = 6.283185307179586\n",
            "\n",
            "FILE\n",
            "    (built-in)\n",
            "\n",
            "\n"
          ]
        }
      ]
    },
    {
      "cell_type": "code",
      "source": [
        "import random as r"
      ],
      "metadata": {
        "id": "fQa5MszKVAeb"
      },
      "execution_count": 61,
      "outputs": []
    },
    {
      "cell_type": "code",
      "source": [
        "r.random()"
      ],
      "metadata": {
        "colab": {
          "base_uri": "https://localhost:8080/"
        },
        "id": "-3OBKXXUVFPg",
        "outputId": "a292a964-54a0-4707-9a21-30d38d76c7d8"
      },
      "execution_count": 68,
      "outputs": [
        {
          "output_type": "execute_result",
          "data": {
            "text/plain": [
              "0.6089612727497374"
            ]
          },
          "metadata": {},
          "execution_count": 68
        }
      ]
    },
    {
      "cell_type": "code",
      "source": [
        "r.randint(1,100)"
      ],
      "metadata": {
        "colab": {
          "base_uri": "https://localhost:8080/"
        },
        "id": "Y_Zf_bZ3VW1L",
        "outputId": "636f7f1d-c8b1-4b1e-dbad-1038f73eda8b"
      },
      "execution_count": 113,
      "outputs": [
        {
          "output_type": "execute_result",
          "data": {
            "text/plain": [
              "76"
            ]
          },
          "metadata": {},
          "execution_count": 113
        }
      ]
    },
    {
      "cell_type": "code",
      "source": [
        "#sayı tahmini oyunu \n",
        "\n",
        "tahmin = r.randint(1,100)\n",
        "sayac = 0\n",
        "\n",
        "while True:\n",
        "  sayac +=1\n",
        "  sayi= int(input(\"1 ile 100 arasında bir sayı gir(çıkmak için 0'a bas!): \"))\n",
        "  if sayi ==0:\n",
        "    print(\"Oyunu sonlandırdınız!!\")\n",
        "    break\n",
        "  elif sayi<tahmin:\n",
        "    print(\"Daha yüksek bir sayı gir\")\n",
        "    continue\n",
        "  elif sayi>tahmin:\n",
        "    print(\"Daha düşük bir sayı gir\")\n",
        "    continue\n",
        "  else:\n",
        "    print(f\"Bilgisayaarın seçtiği sayı: {tahmin} \")\n",
        "    print(f\"Tahmin sayınız: {sayac} \")\n",
        "\n"
      ],
      "metadata": {
        "colab": {
          "base_uri": "https://localhost:8080/"
        },
        "id": "jWgZ-y1VV9gz",
        "outputId": "33d32274-f27f-4054-f780-c078b95cf043"
      },
      "execution_count": 116,
      "outputs": [
        {
          "output_type": "stream",
          "name": "stdout",
          "text": [
            "1 ile 100 arasında bir sayı gir(çıkmak için 0'a bas!): 78\n",
            "Daha düşük bir sayı gir\n",
            "1 ile 100 arasında bir sayı gir(çıkmak için 0'a bas!): 55\n",
            "Daha yüksek bir sayı gir\n",
            "1 ile 100 arasında bir sayı gir(çıkmak için 0'a bas!): 62\n",
            "Daha yüksek bir sayı gir\n",
            "1 ile 100 arasında bir sayı gir(çıkmak için 0'a bas!): 65\n",
            "Daha yüksek bir sayı gir\n",
            "1 ile 100 arasında bir sayı gir(çıkmak için 0'a bas!): 67\n",
            "Daha yüksek bir sayı gir\n",
            "1 ile 100 arasında bir sayı gir(çıkmak için 0'a bas!): 70\n",
            "Daha yüksek bir sayı gir\n",
            "1 ile 100 arasında bir sayı gir(çıkmak için 0'a bas!): 74\n",
            "Daha düşük bir sayı gir\n",
            "1 ile 100 arasında bir sayı gir(çıkmak için 0'a bas!): 73\n",
            "Daha düşük bir sayı gir\n",
            "1 ile 100 arasında bir sayı gir(çıkmak için 0'a bas!): 72\n",
            "Bilgisayaarın seçtiği sayı: 72 \n",
            "Tahmin sayınız: 9 \n",
            "1 ile 100 arasında bir sayı gir(çıkmak için 0'a bas!): 0\n",
            "Oyunu sonlandırdınız!!\n"
          ]
        }
      ]
    }
  ]
}