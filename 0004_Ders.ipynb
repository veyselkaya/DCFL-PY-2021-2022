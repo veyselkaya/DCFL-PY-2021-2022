{
  "nbformat": 4,
  "nbformat_minor": 0,
  "metadata": {
    "colab": {
      "name": "0004.Ders.ipynb",
      "provenance": []
    },
    "kernelspec": {
      "name": "python3",
      "display_name": "Python 3"
    },
    "language_info": {
      "name": "python"
    }
  },
  "cells": [
    {
      "cell_type": "markdown",
      "source": [
        "Bilgi Yarışması ödevi...(örnek)*italik metin* **kalın metin** ***kalın metin***"
      ],
      "metadata": {
        "id": "c1Omxx4jiRn3"
      }
    },
    {
      "cell_type": "code",
      "source": [
        "print(\"Çılgın bilgi yarışmasına hoş geldiniz?\")\n",
        "print(50*\"*\")\n",
        "ad= input(\"Adınızı yazınız: \")\n",
        "puan = 0\n",
        "sorular = [\"Türkiyenin başkenti neresidir?\",\"Dünyada nüfusu en çok olan ülke neresidir?\"]\n",
        "secenekler = [[\"A)Ankara\", \"B)İstanbul\", \"C)İzmir\", \"D)Adana\"],[\"A)Japonya\", \"B)ABD\", \"C)Çin\",\"D)Hindistan\"]]\n",
        "cevaplar = [\"A\", \"C\"]\n",
        "\n",
        "#1. soruyu ekrana basalım\n",
        "print(\"1.\", sorular[0])\n",
        "print(secenekler[0])\n",
        "cevap = input(\"Cevap şıkkını yazınız: \")\n",
        "\n",
        "#cevabı kontrol etmeliyiz\n",
        "if cevap.upper() == cevaplar[0]:\n",
        "  puan = puan+10\n",
        "  print(\"Cevabın doğru. Tebrikler\")\n",
        "  print(\"Puanın: \", puan)\n",
        "else:\n",
        "  print(\"Maalesef cevabın yanlış.\")\n",
        "  print(\"Şu an puanın: \", puan)\n",
        "\n",
        "#2. soruyu ekrana basalım\n",
        "print(\"2.\", sorular[1])\n",
        "print(secenekler[1])\n",
        "cevap = input(\"Cevap şıkkını yazınız: \")\n",
        "\n",
        "#cevabı kontrol etmeliyiz\n",
        "if cevap.upper() == cevaplar[1]:\n",
        "  puan = puan+10\n",
        "  print(\"Cevabın doğru. Tebrikler\")\n",
        "  print(\"Puanın: \", puan)\n",
        "else:\n",
        "  print(\"Maalesef cevabın yanlış.\")\n",
        "  print(\"Şu an puanın: \", puan)\n",
        "\n",
        "print(\"Yarışmamız tamamlandı: Tebrikler: \", ad)\n"
      ],
      "metadata": {
        "colab": {
          "base_uri": "https://localhost:8080/"
        },
        "id": "0B1pN1zueTId",
        "outputId": "8a4b17fc-357c-4ad5-d55f-489e11b13c4c"
      },
      "execution_count": 15,
      "outputs": [
        {
          "output_type": "stream",
          "name": "stdout",
          "text": [
            "Çılgın bilgi yarışmasına hoş geldiniz?\n",
            "**************************************************\n",
            "Adınızı yazınız: jelibon\n",
            "1. Türkiyenin başkenti neresidir?\n",
            "['A)Ankara', 'B)İstanbul', 'C)İzmir', 'D)Adana']\n",
            "Cevap şıkkını yazınız: a\n",
            "Cevabın doğru. Tebrikler\n",
            "Puanın:  10\n",
            "2. Dünyada nüfusu en çok olan ülke neresidir?\n",
            "['A)Japonya', 'B)ABD', 'C)Çin', 'D)Hindistan']\n",
            "Cevap şıkkını yazınız: c\n",
            "Cevabın doğru. Tebrikler\n",
            "Puanın:  20\n",
            "Yarışmamız tamamlandı: Tebrikler:  jelibon\n"
          ]
        }
      ]
    },
    {
      "cell_type": "markdown",
      "source": [
        "## Döngüler"
      ],
      "metadata": {
        "id": "NnSnTtXDiiKv"
      }
    },
    {
      "cell_type": "code",
      "source": [
        "#in operatörü"
      ],
      "metadata": {
        "id": "Obz1zJsOilvv"
      },
      "execution_count": null,
      "outputs": []
    },
    {
      "cell_type": "code",
      "source": [
        "\"a\" in \"merhaba\""
      ],
      "metadata": {
        "colab": {
          "base_uri": "https://localhost:8080/"
        },
        "id": "zZo1CFkGizWN",
        "outputId": "9578b902-c1d1-4687-c7f6-bc3cc5a7dc94"
      },
      "execution_count": 16,
      "outputs": [
        {
          "output_type": "execute_result",
          "data": {
            "text/plain": [
              "True"
            ]
          },
          "metadata": {},
          "execution_count": 16
        }
      ]
    },
    {
      "cell_type": "code",
      "source": [
        "\"x\" in \"merhaba\""
      ],
      "metadata": {
        "colab": {
          "base_uri": "https://localhost:8080/"
        },
        "id": "3mN6dtXii6s0",
        "outputId": "2ee235b9-e9ab-4af7-b622-8eaff80e095b"
      },
      "execution_count": 17,
      "outputs": [
        {
          "output_type": "execute_result",
          "data": {
            "text/plain": [
              "False"
            ]
          },
          "metadata": {},
          "execution_count": 17
        }
      ]
    },
    {
      "cell_type": "code",
      "source": [
        "\"mer\" in \"merhaba\""
      ],
      "metadata": {
        "colab": {
          "base_uri": "https://localhost:8080/"
        },
        "id": "kY5Q4oWJi9d-",
        "outputId": "558877f2-d9d8-4046-d53d-25a423907263"
      },
      "execution_count": 18,
      "outputs": [
        {
          "output_type": "execute_result",
          "data": {
            "text/plain": [
              "True"
            ]
          },
          "metadata": {},
          "execution_count": 18
        }
      ]
    },
    {
      "cell_type": "code",
      "source": [
        "5 in [1,2,3,4,5,6,7,8,9]"
      ],
      "metadata": {
        "colab": {
          "base_uri": "https://localhost:8080/"
        },
        "id": "mGDflDAdjAkm",
        "outputId": "b556956b-6db3-46b2-a8f9-49cac71fb434"
      },
      "execution_count": 19,
      "outputs": [
        {
          "output_type": "execute_result",
          "data": {
            "text/plain": [
              "True"
            ]
          },
          "metadata": {},
          "execution_count": 19
        }
      ]
    },
    {
      "cell_type": "code",
      "source": [
        "#For Döngüsü"
      ],
      "metadata": {
        "id": "moifbcehjGQm"
      },
      "execution_count": null,
      "outputs": []
    },
    {
      "cell_type": "code",
      "source": [
        "rakamlar = [0,1,2,3,4,5,6,7,8,9]\n",
        "for eleman in rakamlar:\n",
        "  print(eleman)"
      ],
      "metadata": {
        "colab": {
          "base_uri": "https://localhost:8080/"
        },
        "id": "zk1VxdH8jLr8",
        "outputId": "f8edbcc7-94ba-436e-c259-e1dcdef06dd0"
      },
      "execution_count": 23,
      "outputs": [
        {
          "output_type": "stream",
          "name": "stdout",
          "text": [
            "0\n",
            "1\n",
            "2\n",
            "3\n",
            "4\n",
            "5\n",
            "6\n",
            "7\n",
            "8\n",
            "9\n"
          ]
        }
      ]
    },
    {
      "cell_type": "code",
      "source": [
        "siniflar = [9,10,11,12]\n",
        "for eleman in  siniflar:\n",
        "  print(eleman,\". Sınıf\")"
      ],
      "metadata": {
        "colab": {
          "base_uri": "https://localhost:8080/"
        },
        "id": "ADcqXh0eji93",
        "outputId": "895f868e-1df7-4cba-d3ae-07e4d58f5d1a"
      },
      "execution_count": 24,
      "outputs": [
        {
          "output_type": "stream",
          "name": "stdout",
          "text": [
            "9 . Sınıf\n",
            "10 . Sınıf\n",
            "11 . Sınıf\n",
            "12 . Sınıf\n"
          ]
        }
      ]
    },
    {
      "cell_type": "code",
      "source": [
        "#ardışık sayıların toplamı\n",
        "\n",
        "liste = [1,2,3,4,5,6,7,8,9,10]\n",
        "toplam = 0\n",
        "for eleman in liste:\n",
        "  #toplam +=eleman\n",
        "  toplam = toplam+eleman\n",
        "print(\"Toplam:\", toplam)\n"
      ],
      "metadata": {
        "colab": {
          "base_uri": "https://localhost:8080/"
        },
        "id": "Rl3gVy1lj4YD",
        "outputId": "b5f52094-a613-48c5-ac0a-8cdb44c1f4a6"
      },
      "execution_count": 29,
      "outputs": [
        {
          "output_type": "stream",
          "name": "stdout",
          "text": [
            "Toplam: 55\n"
          ]
        }
      ]
    },
    {
      "cell_type": "code",
      "source": [
        "#bir listedeki sayıların teki çift olarak ayırmak\n",
        "\n",
        "liste = [1,2,3,4,5,6,7,8,10]\n",
        "tekSayilar = []\n",
        "ciftSayilar = []\n",
        "for eleman in liste:\n",
        "  if eleman %2 == 0:\n",
        "    ciftSayilar.append(eleman)\n",
        "  else:\n",
        "    tekSayilar.append(eleman)\n",
        "\n",
        "\n",
        "print(50*\"*\")\n",
        "print(\"Tek sayılar: \", tekSayilar)\n",
        "tekToplam =0\n",
        "for eleman in tekSayilar:\n",
        "  tekToplam +=eleman\n",
        "print(\"Tek sayıların toplamı: \", tekToplam)\n",
        "print(\"Tek saylar:\", len(tekSayilar), \"tanedir\")\n",
        "print(\"Tek sayıların ortalması:\", tekToplam/len(tekSayilar))\n",
        "\n",
        "\n",
        "print(50*\"*\")\n",
        "print(\"Çift sayılar: \", ciftSayilar)\n",
        "ciftToplam =0\n",
        "for eleman in ciftSayilar:\n",
        "  ciftToplam +=eleman\n",
        "print(\"Çift sayıların toplamı: \", ciftToplam)\n",
        "print(\"Çift saylar:\", len(ciftSayilar), \"tanedir\")\n",
        "print(\"Çift sayıların ortalması:\", ciftToplam/len(ciftSayilar))\n"
      ],
      "metadata": {
        "colab": {
          "base_uri": "https://localhost:8080/"
        },
        "id": "_jT_F3g5nzYg",
        "outputId": "48b532d6-178a-4055-b5a3-9ba4875920e4"
      },
      "execution_count": 49,
      "outputs": [
        {
          "output_type": "stream",
          "name": "stdout",
          "text": [
            "**************************************************\n",
            "Tek sayılar:  [1, 3, 5, 7]\n",
            "Tek sayıların toplamı:  16\n",
            "Tek saylar: 4 tanedir\n",
            "Tek sayıların ortalması: 4.0\n",
            "**************************************************\n",
            "Çift sayılar:  [2, 4, 6, 8, 10]\n",
            "Çift sayıların toplamı:  30\n",
            "Çift saylar: 5 tanedir\n",
            "Çift sayıların ortalması: 6.0\n"
          ]
        }
      ]
    },
    {
      "cell_type": "code",
      "source": [
        "ad = \"Merve\"\n",
        "for kakter in ad:\n",
        "  print(\"*\",kakter.upper())"
      ],
      "metadata": {
        "colab": {
          "base_uri": "https://localhost:8080/"
        },
        "id": "Vh8PAlkurh1e",
        "outputId": "864dc0bb-d6e4-46c1-d02a-9c38d2abef7f"
      },
      "execution_count": 54,
      "outputs": [
        {
          "output_type": "stream",
          "name": "stdout",
          "text": [
            "* M\n",
            "* E\n",
            "* R\n",
            "* V\n",
            "* E\n"
          ]
        }
      ]
    },
    {
      "cell_type": "code",
      "source": [
        "sayi =\"4567898765432456786543245676543234567876543234567876543456787654324567\"\n",
        "liste = []\n",
        "for eleman in sayi:\n",
        "  liste.append(eleman)\n",
        "  \n",
        "print(liste)"
      ],
      "metadata": {
        "colab": {
          "base_uri": "https://localhost:8080/"
        },
        "id": "8mtkNr88r4ZQ",
        "outputId": "145f6e6c-1255-4cb5-9a9a-982678788764"
      },
      "execution_count": 57,
      "outputs": [
        {
          "output_type": "stream",
          "name": "stdout",
          "text": [
            "['4', '5', '6', '7', '8', '9', '8', '7', '6', '5', '4', '3', '2', '4', '5', '6', '7', '8', '6', '5', '4', '3', '2', '4', '5', '6', '7', '6', '5', '4', '3', '2', '3', '4', '5', '6', '7', '8', '7', '6', '5', '4', '3', '2', '3', '4', '5', '6', '7', '8', '7', '6', '5', '4', '3', '4', '5', '6', '7', '8', '7', '6', '5', '4', '3', '2', '4', '5', '6', '7']\n"
          ]
        }
      ]
    },
    {
      "cell_type": "code",
      "source": [
        "sayi =\"4567345678765434567654345678654345676543456787654345678\"\n",
        "liste = []\n",
        "toplam = 0\n",
        "for eleman in sayi:\n",
        "  liste.append(int(eleman))\n",
        "  toplam += int(eleman)\n",
        "  \n",
        "print(liste)\n",
        "print(\"Sayı listesinin rakamları toplamı: \", toplam)"
      ],
      "metadata": {
        "colab": {
          "base_uri": "https://localhost:8080/"
        },
        "id": "G42RrKctsaK6",
        "outputId": "1e3a2fa8-84d3-464f-f968-ca3c133bfdf0"
      },
      "execution_count": 61,
      "outputs": [
        {
          "output_type": "stream",
          "name": "stdout",
          "text": [
            "[4, 5, 6, 7, 3, 4, 5, 6, 7, 8, 7, 6, 5, 4, 3, 4, 5, 6, 7, 6, 5, 4, 3, 4, 5, 6, 7, 8, 6, 5, 4, 3, 4, 5, 6, 7, 6, 5, 4, 3, 4, 5, 6, 7, 8, 7, 6, 5, 4, 3, 4, 5, 6, 7, 8]\n",
            "Sayı listesinin rakamları toplamı:  293\n"
          ]
        }
      ]
    },
    {
      "cell_type": "code",
      "source": [
        "elma = \"Elma\"\n",
        "for eleman in elma:\n",
        "  print(3*eleman)"
      ],
      "metadata": {
        "colab": {
          "base_uri": "https://localhost:8080/"
        },
        "id": "T9nX1YwitRL7",
        "outputId": "9b6351c3-2615-4461-a07e-8511fdb4509b"
      },
      "execution_count": 62,
      "outputs": [
        {
          "output_type": "stream",
          "name": "stdout",
          "text": [
            "EEE\n",
            "lll\n",
            "mmm\n",
            "aaa\n"
          ]
        }
      ]
    },
    {
      "cell_type": "code",
      "source": [
        "#Ödev-1: toplayacağımız sayılar iki basamaklı ise(yukarıdaki örneğe uygun!)\n",
        "#Ödev-2: Bilgi yarışmasını for döngüsü kullanarak kodlayınız"
      ],
      "metadata": {
        "id": "94kaRexdtxNf"
      },
      "execution_count": null,
      "outputs": []
    }
  ]
}