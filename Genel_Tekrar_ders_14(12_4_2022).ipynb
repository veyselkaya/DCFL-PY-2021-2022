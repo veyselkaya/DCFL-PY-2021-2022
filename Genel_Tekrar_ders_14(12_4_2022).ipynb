{
  "nbformat": 4,
  "nbformat_minor": 0,
  "metadata": {
    "colab": {
      "name": "Genel_Tekrar_ders_14(12_4_2022).ipynb",
      "provenance": []
    },
    "kernelspec": {
      "name": "python3",
      "display_name": "Python 3"
    },
    "language_info": {
      "name": "python"
    }
  },
  "cells": [
    {
      "cell_type": "code",
      "execution_count": 4,
      "metadata": {
        "colab": {
          "base_uri": "https://localhost:8080/"
        },
        "id": "u03jb_BZFOg6",
        "outputId": "ac5f6b27-6588-4259-8b79-39af6938ff4e"
      },
      "outputs": [
        {
          "output_type": "stream",
          "name": "stdout",
          "text": [
            "Kasiyer uygulaması!\n",
            "Lütfen Ürünleri okutunuz..! 23\n",
            "Lütfen Ürünleri okutunuz..! 45\n",
            "Lütfen Ürünleri okutunuz..! 7\n",
            "Lütfen Ürünleri okutunuz..! 87\n",
            "Lütfen Ürünleri okutunuz..! 98\n",
            "Lütfen Ürünleri okutunuz..! 566\n",
            "Lütfen Ürünleri okutunuz..! 444\n",
            "Lütfen Ürünleri okutunuz..! 345\n",
            "Lütfen Ürünleri okutunuz..! q\n",
            "İşlem sonlandırıldı...\n",
            "******************************\n",
            "Fişiniz...\n",
            "8 adet ürün aldınız... \n",
            "Toplam ödemeniz gereken fiyat: 1615₺ dir. \n",
            "Aldığınız ürünlerin fiyatları: [23, 45, 7, 87, 98, 566, 444, 345] \n"
          ]
        }
      ],
      "source": [
        "#Kasiyer uygulaması....\n",
        "toplam = 0\n",
        "urun_listesi=[]\n",
        "print(\"Kasiyer uygulaması!\")\n",
        "while True:\n",
        "  fiyat = input(\"Lütfen Ürünleri okutunuz..! \")\n",
        "  if fiyat == \"q\":\n",
        "    print(\"İşlem sonlandırıldı...\")\n",
        "    break\n",
        "  fiyat = int(fiyat)\n",
        "  toplam += fiyat\n",
        "  urun_listesi.append(fiyat)\n",
        "\n",
        "print(30*\"*\")\n",
        "print(\"Fişiniz...\")\n",
        "print(f\"{len(urun_listesi)} adet ürün aldınız... \")\n",
        "print(f\"Toplam ödemeniz gereken fiyat: {toplam}₺ dir. \")\n",
        "print(f\"Aldığınız ürünlerin fiyatları: {urun_listesi} \")"
      ]
    },
    {
      "cell_type": "code",
      "source": [
        "#Simkart uygulaması...\n",
        "sifre_Db=\"1234\"\n",
        "giris_hakki = 3\n",
        "puk_kodu = \"123456\"\n",
        "print(\"Telefonu açmak için Pin kodunuzu giriniz..\")\n",
        "print(f\"toplam: {giris_hakki} hakkınız vardır.\")\n",
        "\n",
        "while True:\n",
        "  pin = input(\"4 haneli pin kodunuzu giriniz: \")\n",
        "  if pin == \"q\":\n",
        "    print(\"İşlem sonlandırıldı... pin kodunuzu hatırlamıyorsanız müşteri hizmetlerini arayınız!\")\n",
        "    break\n",
        "  elif pin == sifre_Db:\n",
        "    print(\"Giriş başarılı...Telefonunuz açılıyor...\")\n",
        "    break\n",
        "  elif pin != sifre_Db:\n",
        "    print(\"Pin kodu hatalı..!\")\n",
        "    giris_hakki = giris_hakki-1\n",
        "    print(f\"Kalan giriş hakkınız: {giris_hakki}! \")\n",
        "    if giris_hakki==0:\n",
        "      print(\"Giriş hakkınız doldu......Puk Kodunuzu ile giriş yapınız..!\")\n",
        "      break\n",
        "\n",
        "while True:\n",
        "  puk = input(\"4 haneli pin kodunuzu giriniz: \")\n",
        "  if pin == \"q\":\n",
        "    print(\"İşlem sonlandırıldı!\")\n",
        "    break\n",
        "  elif puk == puk_kodu:\n",
        "    print(\"Giriş başarılı...Telefonunuz açılıyor...\")\n",
        "    print(f\"Pin kodunuz: {sifre_Db}. Lütfen Not alınız...\")\n",
        "    break\n",
        "\n"
      ],
      "metadata": {
        "colab": {
          "base_uri": "https://localhost:8080/"
        },
        "id": "uovuGPZIIac2",
        "outputId": "2a05ab81-7e15-4605-db97-f585ab66ac55"
      },
      "execution_count": 8,
      "outputs": [
        {
          "output_type": "stream",
          "name": "stdout",
          "text": [
            "Telefonu açmak için Pin kodunuzu giriniz..\n",
            "toplam: 3 hakkınız vardır.\n",
            "4 haneli pin kodunuzu giriniz: 2345\n",
            "Pin kodu hatalı..!\n",
            "Kalan giriş hakkınız: 2! \n",
            "4 haneli pin kodunuzu giriniz: 3456\n",
            "Pin kodu hatalı..!\n",
            "Kalan giriş hakkınız: 1! \n",
            "4 haneli pin kodunuzu giriniz: 4567\n",
            "Pin kodu hatalı..!\n",
            "Kalan giriş hakkınız: 0! \n",
            "Giriş hakkınız doldu......Puk Kodunuzu ile giriş yapınız..!\n",
            "4 haneli pin kodunuzu giriniz: 123456\n",
            "Giriş başarılı...Telefonunuz açılıyor...\n",
            "Pin kodunuz: 1234. Lütfen Not alınız...\n"
          ]
        }
      ]
    }
  ]
}