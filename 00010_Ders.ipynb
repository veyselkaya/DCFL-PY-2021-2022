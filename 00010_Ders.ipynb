{
  "nbformat": 4,
  "nbformat_minor": 0,
  "metadata": {
    "colab": {
      "name": "00010_Ders.ipynb",
      "provenance": [],
      "collapsed_sections": []
    },
    "kernelspec": {
      "name": "python3",
      "display_name": "Python 3"
    },
    "language_info": {
      "name": "python"
    }
  },
  "cells": [
    {
      "cell_type": "code",
      "execution_count": 2,
      "metadata": {
        "id": "z0Ifff3f1MyQ"
      },
      "outputs": [],
      "source": [
        "class Araba():\n",
        "    marka = \"BMW\"\n",
        "    renk = \"Kırmızı\"\n",
        "    beygir = 200\n",
        "    silindir = 6"
      ]
    },
    {
      "cell_type": "code",
      "source": [
        "araba1 = Araba()"
      ],
      "metadata": {
        "id": "CpWzMXZ7D8lo"
      },
      "execution_count": 3,
      "outputs": []
    },
    {
      "cell_type": "code",
      "source": [
        "araba1.marka"
      ],
      "metadata": {
        "colab": {
          "base_uri": "https://localhost:8080/",
          "height": 35
        },
        "id": "ImhWhidrD-Lv",
        "outputId": "d5e6b3f0-63a8-4017-aa2f-daf07f0a9846"
      },
      "execution_count": 4,
      "outputs": [
        {
          "output_type": "execute_result",
          "data": {
            "application/vnd.google.colaboratory.intrinsic+json": {
              "type": "string"
            },
            "text/plain": [
              "'BMW'"
            ]
          },
          "metadata": {},
          "execution_count": 4
        }
      ]
    },
    {
      "cell_type": "code",
      "source": [
        "araba2 = Araba()"
      ],
      "metadata": {
        "id": "RGVP94i-EBWr"
      },
      "execution_count": 5,
      "outputs": []
    },
    {
      "cell_type": "code",
      "source": [
        "araba2.marka"
      ],
      "metadata": {
        "colab": {
          "base_uri": "https://localhost:8080/",
          "height": 35
        },
        "id": "MTtJYeHpEFdN",
        "outputId": "3d727353-a523-4d7f-86ce-153de63145a1"
      },
      "execution_count": 6,
      "outputs": [
        {
          "output_type": "execute_result",
          "data": {
            "application/vnd.google.colaboratory.intrinsic+json": {
              "type": "string"
            },
            "text/plain": [
              "'BMW'"
            ]
          },
          "metadata": {},
          "execution_count": 6
        }
      ]
    },
    {
      "cell_type": "code",
      "source": [
        "#init fonksiyonu(cunsturctor) yapııc fonksiyonlar... yeni ve biribirinden farklı araba objelerini oluşturmamıza yardım eder...."
      ],
      "metadata": {
        "id": "rfwkZ6ZAEMzo"
      },
      "execution_count": null,
      "outputs": []
    },
    {
      "cell_type": "code",
      "source": [
        "class Araba():\n",
        "  def __init__(self):\n",
        "    print(\"İnit fonksiyonu çalışıyor\")"
      ],
      "metadata": {
        "id": "JXOYDJlBEaCH"
      },
      "execution_count": 7,
      "outputs": []
    },
    {
      "cell_type": "code",
      "source": [
        "araba3 = Araba()"
      ],
      "metadata": {
        "colab": {
          "base_uri": "https://localhost:8080/"
        },
        "id": "xmfq8eIDEnj9",
        "outputId": "eaccc51f-e259-418e-9096-1ea43cad44a1"
      },
      "execution_count": 8,
      "outputs": [
        {
          "output_type": "stream",
          "name": "stdout",
          "text": [
            "İnit fonksiyonu çalışıyor\n"
          ]
        }
      ]
    },
    {
      "cell_type": "code",
      "source": [
        "class Araba():\n",
        "  def __init__(self, marka, model, renk, beygir, silindir):\n",
        "    self.marka = marka\n",
        "    self.model = model\n",
        "    self.renk = renk\n",
        "    self.beygir = beygir\n",
        "    self.silindir = silindir"
      ],
      "metadata": {
        "id": "lJF14hRIEvb_"
      },
      "execution_count": 21,
      "outputs": []
    },
    {
      "cell_type": "code",
      "source": [
        "araba5 = Araba(\"Peugeot\", \"206\", \"Mavi\", 200, 4)"
      ],
      "metadata": {
        "id": "MHPRhVJTFKOK"
      },
      "execution_count": 22,
      "outputs": []
    },
    {
      "cell_type": "code",
      "source": [
        "araba6 = Araba(\"Reno\", \"Megan\", \"Beyaz\", 168, 4)"
      ],
      "metadata": {
        "id": "h2AXf7zMFTrr"
      },
      "execution_count": 23,
      "outputs": []
    },
    {
      "cell_type": "code",
      "source": [
        "araba5.marka"
      ],
      "metadata": {
        "colab": {
          "base_uri": "https://localhost:8080/",
          "height": 35
        },
        "id": "Mm38nzSWFbpq",
        "outputId": "98fcaaca-ba76-486d-f2ec-ad292c3428ed"
      },
      "execution_count": 19,
      "outputs": [
        {
          "output_type": "execute_result",
          "data": {
            "application/vnd.google.colaboratory.intrinsic+json": {
              "type": "string"
            },
            "text/plain": [
              "'Peugeot'"
            ]
          },
          "metadata": {},
          "execution_count": 19
        }
      ]
    },
    {
      "cell_type": "code",
      "source": [
        "araba6.marka"
      ],
      "metadata": {
        "colab": {
          "base_uri": "https://localhost:8080/",
          "height": 35
        },
        "id": "Vcz5ZxMMFh6c",
        "outputId": "0efe24c4-34fa-47a2-8344-f5da0029bbfa"
      },
      "execution_count": 20,
      "outputs": [
        {
          "output_type": "execute_result",
          "data": {
            "application/vnd.google.colaboratory.intrinsic+json": {
              "type": "string"
            },
            "text/plain": [
              "'Reno'"
            ]
          },
          "metadata": {},
          "execution_count": 20
        }
      ]
    },
    {
      "cell_type": "code",
      "source": [
        "araba5.model"
      ],
      "metadata": {
        "colab": {
          "base_uri": "https://localhost:8080/",
          "height": 35
        },
        "id": "MKrNXlXbF1OH",
        "outputId": "dd1702a6-1826-45ac-b452-c641f9bdcc00"
      },
      "execution_count": 24,
      "outputs": [
        {
          "output_type": "execute_result",
          "data": {
            "application/vnd.google.colaboratory.intrinsic+json": {
              "type": "string"
            },
            "text/plain": [
              "'206'"
            ]
          },
          "metadata": {},
          "execution_count": 24
        }
      ]
    },
    {
      "cell_type": "code",
      "source": [
        "class Ogrenci():\n",
        "  def __init__(self, ad=\"Belirtilmemiş\", sınıf=\"Belirtilmemiş\", okul=\"DCFL\"):\n",
        "    self.ad = ad\n",
        "    self.sınıf = sınıf\n",
        "    self.okul = okul"
      ],
      "metadata": {
        "id": "VicOJMc-GRy0"
      },
      "execution_count": 27,
      "outputs": []
    },
    {
      "cell_type": "code",
      "source": [
        "ogrenci1 = Ogrenci(\"Arda\", \"10-A\")"
      ],
      "metadata": {
        "id": "OmZYeERGG4RP"
      },
      "execution_count": 29,
      "outputs": []
    },
    {
      "cell_type": "code",
      "source": [
        "ogrenci1.okul"
      ],
      "metadata": {
        "colab": {
          "base_uri": "https://localhost:8080/",
          "height": 35
        },
        "id": "PdywPYJfHCUv",
        "outputId": "762d25ec-c702-4a34-8f9b-efaedde93098"
      },
      "execution_count": 30,
      "outputs": [
        {
          "output_type": "execute_result",
          "data": {
            "application/vnd.google.colaboratory.intrinsic+json": {
              "type": "string"
            },
            "text/plain": [
              "'DCFL'"
            ]
          },
          "metadata": {},
          "execution_count": 30
        }
      ]
    },
    {
      "cell_type": "code",
      "source": [
        "ogrenci1.ad"
      ],
      "metadata": {
        "colab": {
          "base_uri": "https://localhost:8080/",
          "height": 35
        },
        "id": "82arAsM6HJ8m",
        "outputId": "9a7a0017-aa0d-489c-8706-c5d5755fedb7"
      },
      "execution_count": 31,
      "outputs": [
        {
          "output_type": "execute_result",
          "data": {
            "application/vnd.google.colaboratory.intrinsic+json": {
              "type": "string"
            },
            "text/plain": [
              "'Arda'"
            ]
          },
          "metadata": {},
          "execution_count": 31
        }
      ]
    },
    {
      "cell_type": "code",
      "source": [
        "ogrenci2 = Ogrenci(\"Akın\")"
      ],
      "metadata": {
        "id": "LqBCrHPUHRS-"
      },
      "execution_count": 32,
      "outputs": []
    },
    {
      "cell_type": "code",
      "source": [
        "ogrenci2.sınıf"
      ],
      "metadata": {
        "colab": {
          "base_uri": "https://localhost:8080/",
          "height": 35
        },
        "id": "UIDq638sHaBr",
        "outputId": "89acfb65-df1f-49bb-b3c7-426e40090c53"
      },
      "execution_count": 33,
      "outputs": [
        {
          "output_type": "execute_result",
          "data": {
            "application/vnd.google.colaboratory.intrinsic+json": {
              "type": "string"
            },
            "text/plain": [
              "'Belirtilmemiş'"
            ]
          },
          "metadata": {},
          "execution_count": 33
        }
      ]
    },
    {
      "cell_type": "code",
      "source": [
        "ogrenci2.ad"
      ],
      "metadata": {
        "colab": {
          "base_uri": "https://localhost:8080/",
          "height": 35
        },
        "id": "hByG-c_MHeYR",
        "outputId": "e69b7033-7a06-49c4-b4f2-74665145fd3a"
      },
      "execution_count": 34,
      "outputs": [
        {
          "output_type": "execute_result",
          "data": {
            "application/vnd.google.colaboratory.intrinsic+json": {
              "type": "string"
            },
            "text/plain": [
              "'Akın'"
            ]
          },
          "metadata": {},
          "execution_count": 34
        }
      ]
    },
    {
      "cell_type": "code",
      "source": [
        "ogrenci3 = Ogrenci(\"Efe\", \"9-E\", \"MIT\")"
      ],
      "metadata": {
        "id": "Uzia8KKYH2_p"
      },
      "execution_count": 35,
      "outputs": []
    },
    {
      "cell_type": "code",
      "source": [
        "ogrenci3.okul"
      ],
      "metadata": {
        "colab": {
          "base_uri": "https://localhost:8080/",
          "height": 35
        },
        "id": "Sho6XGAyICHG",
        "outputId": "bb7d4a8c-b463-4924-e467-3b8febda2001"
      },
      "execution_count": 36,
      "outputs": [
        {
          "output_type": "execute_result",
          "data": {
            "application/vnd.google.colaboratory.intrinsic+json": {
              "type": "string"
            },
            "text/plain": [
              "'MIT'"
            ]
          },
          "metadata": {},
          "execution_count": 36
        }
      ]
    }
  ]
}