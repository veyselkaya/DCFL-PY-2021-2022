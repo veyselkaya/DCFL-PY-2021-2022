{
  "nbformat": 4,
  "nbformat_minor": 0,
  "metadata": {
    "colab": {
      "name": "Gerne_Tekrar.ipynb",
      "provenance": [],
      "collapsed_sections": []
    },
    "kernelspec": {
      "name": "python3",
      "display_name": "Python 3"
    },
    "language_info": {
      "name": "python"
    }
  },
  "cells": [
    {
      "cell_type": "code",
      "execution_count": 1,
      "metadata": {
        "colab": {
          "base_uri": "https://localhost:8080/"
        },
        "id": "FrPJGo-oBKSG",
        "outputId": "03ec0103-aa0d-44c0-dac5-3304d34cd0b1"
      },
      "outputs": [
        {
          "output_type": "stream",
          "name": "stdout",
          "text": [
            "Merhaba\n"
          ]
        }
      ],
      "source": [
        "print(\"Merhaba\")"
      ]
    },
    {
      "cell_type": "code",
      "source": [
        "print(*\"Merhaba\")"
      ],
      "metadata": {
        "colab": {
          "base_uri": "https://localhost:8080/"
        },
        "id": "eNVVPMzMBeWc",
        "outputId": "d33e1300-c5f6-480a-f89a-409fc5cf5c61"
      },
      "execution_count": 2,
      "outputs": [
        {
          "output_type": "stream",
          "name": "stdout",
          "text": [
            "M e r h a b a\n"
          ]
        }
      ]
    },
    {
      "cell_type": "code",
      "source": [
        "print(*\"Merhaba\", sep=\"\\n\")"
      ],
      "metadata": {
        "colab": {
          "base_uri": "https://localhost:8080/"
        },
        "id": "d8OW5uOFBgeL",
        "outputId": "2f2db6bd-ea10-4d64-c6ab-eca200eeb742"
      },
      "execution_count": 4,
      "outputs": [
        {
          "output_type": "stream",
          "name": "stdout",
          "text": [
            "M\n",
            "e\n",
            "r\n",
            "h\n",
            "a\n",
            "b\n",
            "a\n"
          ]
        }
      ]
    },
    {
      "cell_type": "code",
      "source": [
        "ad = \"veysel kaya\""
      ],
      "metadata": {
        "id": "nKwUSg3mBrn5"
      },
      "execution_count": 10,
      "outputs": []
    },
    {
      "cell_type": "code",
      "source": [
        "print(ad.capitalize())"
      ],
      "metadata": {
        "colab": {
          "base_uri": "https://localhost:8080/"
        },
        "id": "DVy-ZRPfBvTB",
        "outputId": "e31c6207-be8c-406d-bc62-414976149bfa"
      },
      "execution_count": 7,
      "outputs": [
        {
          "output_type": "stream",
          "name": "stdout",
          "text": [
            "Veysel kaya\n"
          ]
        }
      ]
    },
    {
      "cell_type": "code",
      "source": [
        "print(ad.upper())"
      ],
      "metadata": {
        "colab": {
          "base_uri": "https://localhost:8080/"
        },
        "id": "gn0xqYwbB7qp",
        "outputId": "e5ddd90e-334e-4a2e-e48e-3b36d6dd20db"
      },
      "execution_count": 8,
      "outputs": [
        {
          "output_type": "stream",
          "name": "stdout",
          "text": [
            "VEYSEL KAYA\n"
          ]
        }
      ]
    },
    {
      "cell_type": "code",
      "source": [
        "print(ad.title())"
      ],
      "metadata": {
        "colab": {
          "base_uri": "https://localhost:8080/"
        },
        "id": "wLofzp8BCFae",
        "outputId": "b3dcea3b-66d3-4a01-f593-dd1ba30f1c60"
      },
      "execution_count": 11,
      "outputs": [
        {
          "output_type": "stream",
          "name": "stdout",
          "text": [
            "Veysel Kaya\n"
          ]
        }
      ]
    },
    {
      "cell_type": "code",
      "source": [
        "# = değişken ataması için kullanbılır..."
      ],
      "metadata": {
        "id": "6XdAHfviCQos"
      },
      "execution_count": null,
      "outputs": []
    },
    {
      "cell_type": "code",
      "source": [
        "# formatlama...\n",
        "\n",
        "a = 10\n",
        "b = 20\n",
        "toplam = a+b\n",
        "carpim = a*b\n",
        "print(f\"Toplamları: {toplam}. Çarpımları: {carpim}\")"
      ],
      "metadata": {
        "colab": {
          "base_uri": "https://localhost:8080/"
        },
        "id": "7xfPRNkKCWEa",
        "outputId": "9d36cad6-23ea-4887-9013-a5d75bcbe753"
      },
      "execution_count": 13,
      "outputs": [
        {
          "output_type": "stream",
          "name": "stdout",
          "text": [
            "Toplamları: 30. Çarpımları: 200 \n"
          ]
        }
      ]
    },
    {
      "cell_type": "code",
      "source": [
        "#kulanıcıdan veri alma... input()"
      ],
      "metadata": {
        "id": "vuzTpEe-Cvn9"
      },
      "execution_count": null,
      "outputs": []
    },
    {
      "cell_type": "code",
      "source": [
        "#kullanıcıdan iki sayı alıp üslerini hesaplama"
      ],
      "metadata": {
        "id": "sAMmbZEaCyl0"
      },
      "execution_count": null,
      "outputs": []
    },
    {
      "cell_type": "code",
      "source": [
        "a = int(input(\"tabanı gir: \"))\n",
        "b = int(input(\"üssü gir: \"))\n",
        "sonuc = a**b\n",
        "print(f\"Girdiğin taban: {a},  üs: {b}. sonuç: {sonuc} \")"
      ],
      "metadata": {
        "colab": {
          "base_uri": "https://localhost:8080/"
        },
        "id": "e8EYJUbeC2yK",
        "outputId": "ecf07ad2-326c-4fbf-9ad9-c348f44018ca"
      },
      "execution_count": 15,
      "outputs": [
        {
          "output_type": "stream",
          "name": "stdout",
          "text": [
            "tabanı gir: 2\n",
            "üssü gir: 3\n",
            "Girdiğin taban: 2,  üs: 3. sonuç: 8 \n"
          ]
        }
      ]
    },
    {
      "cell_type": "code",
      "source": [
        "# +, *, -, /, //, %, ... matematiksel operatörler...\n",
        "# <, >, >=, <=, ==, !=... karşılaştırma operatörleri\n",
        "# true ve false... boll değerler\n",
        "# int ve float.... float: ondalıklı sayılar"
      ],
      "metadata": {
        "id": "Vyp7bDu3DXMl"
      },
      "execution_count": null,
      "outputs": []
    },
    {
      "cell_type": "code",
      "source": [
        "5 == 5 "
      ],
      "metadata": {
        "colab": {
          "base_uri": "https://localhost:8080/"
        },
        "id": "bLE83F2TDnBJ",
        "outputId": "56932a14-d55f-4dcc-9fc3-acf2c804d332"
      },
      "execution_count": 17,
      "outputs": [
        {
          "output_type": "execute_result",
          "data": {
            "text/plain": [
              "True"
            ]
          },
          "metadata": {},
          "execution_count": 17
        }
      ]
    },
    {
      "cell_type": "code",
      "source": [
        "5 != 4"
      ],
      "metadata": {
        "colab": {
          "base_uri": "https://localhost:8080/"
        },
        "id": "UjSycdQ9DyvF",
        "outputId": "7e74bb28-f6a4-44c2-ff6f-43d749afdcba"
      },
      "execution_count": 18,
      "outputs": [
        {
          "output_type": "execute_result",
          "data": {
            "text/plain": [
              "True"
            ]
          },
          "metadata": {},
          "execution_count": 18
        }
      ]
    },
    {
      "cell_type": "code",
      "source": [
        "# if, elif, else.."
      ],
      "metadata": {
        "id": "LdISLyOuD26r"
      },
      "execution_count": null,
      "outputs": []
    },
    {
      "cell_type": "code",
      "source": [
        "# girilen sayının negaif ya da pozitif olduğunu kontrol eden program\n",
        "\n",
        "sayi = float(input(\"sayıyı gir: \"))\n",
        "if sayi > 0:\n",
        "  print(f\"Bu sayı: {sayi} pozitiftir.\")\n",
        "elif sayi == 0:\n",
        "  print(f\"Giridğin sayı:{sayi}  sıfırdır..!\")\n",
        "elif sayi <0 :\n",
        "  print(f\"Giridğin sayı: {sayi} negatiftir..\")\n",
        "else:\n",
        "  print(\"Lütfen sadece  bir say giriniz!!!\")"
      ],
      "metadata": {
        "colab": {
          "base_uri": "https://localhost:8080/"
        },
        "id": "lKmSJS9fD6QN",
        "outputId": "798898fd-1e23-40dd-b0ca-fa2d1ef7f6bc"
      },
      "execution_count": 23,
      "outputs": [
        {
          "output_type": "stream",
          "name": "stdout",
          "text": [
            "sayıyı gir: -3\n",
            "Giridğin sayı: -3.0 negatiftir..\n"
          ]
        }
      ]
    },
    {
      "cell_type": "code",
      "source": [
        "# Çift ya da tek sayı kontrolu yapan program\n",
        "\n",
        "sayi = int(input(\"Sayıyı gir: \"))\n",
        "\n",
        "if sayi % 2 == 0:\n",
        "  print(f\"Girdiğin sayı: {sayi} çifttir\")\n",
        "\n",
        "else:\n",
        "  print(f\"Girdiğin sayı: {sayi} tektir\")"
      ],
      "metadata": {
        "colab": {
          "base_uri": "https://localhost:8080/"
        },
        "id": "ypoJEH1hE-iY",
        "outputId": "f5c149fa-7a41-476c-ed59-94afc30ead93"
      },
      "execution_count": 30,
      "outputs": [
        {
          "output_type": "stream",
          "name": "stdout",
          "text": [
            "Sayıyı gir: 5\n",
            "Girdiğin sayı: 5 tektir\n"
          ]
        }
      ]
    },
    {
      "cell_type": "code",
      "source": [
        "#type() fonksiyonu..."
      ],
      "metadata": {
        "id": "XRWD4KgPF_yF"
      },
      "execution_count": null,
      "outputs": []
    },
    {
      "cell_type": "code",
      "source": [
        "a = 5\n",
        "type(a)"
      ],
      "metadata": {
        "colab": {
          "base_uri": "https://localhost:8080/"
        },
        "id": "iutz4MF1GDH8",
        "outputId": "403c34bf-67f8-4032-f603-ed20d6676e83"
      },
      "execution_count": 31,
      "outputs": [
        {
          "output_type": "execute_result",
          "data": {
            "text/plain": [
              "int"
            ]
          },
          "metadata": {},
          "execution_count": 31
        }
      ]
    },
    {
      "cell_type": "code",
      "source": [
        "a = \"5\"\n",
        "type(a)"
      ],
      "metadata": {
        "colab": {
          "base_uri": "https://localhost:8080/"
        },
        "id": "4U7-OiBoGHCB",
        "outputId": "40358b6f-0c78-4fcf-fdbe-35fde1f8887a"
      },
      "execution_count": 32,
      "outputs": [
        {
          "output_type": "execute_result",
          "data": {
            "text/plain": [
              "str"
            ]
          },
          "metadata": {},
          "execution_count": 32
        }
      ]
    },
    {
      "cell_type": "code",
      "source": [
        "#veri dönüştürme..."
      ],
      "metadata": {
        "id": "doZcCehXGO7Z"
      },
      "execution_count": null,
      "outputs": []
    },
    {
      "cell_type": "code",
      "source": [
        "a = \"5\"\n",
        "type(a)\n"
      ],
      "metadata": {
        "colab": {
          "base_uri": "https://localhost:8080/"
        },
        "id": "51JkvTQCGSZY",
        "outputId": "ea9bc186-238b-4b17-de4b-d87e610399c0"
      },
      "execution_count": 34,
      "outputs": [
        {
          "output_type": "execute_result",
          "data": {
            "text/plain": [
              "str"
            ]
          },
          "metadata": {},
          "execution_count": 34
        }
      ]
    },
    {
      "cell_type": "code",
      "source": [
        "b = int(a)\n",
        "type(b)"
      ],
      "metadata": {
        "colab": {
          "base_uri": "https://localhost:8080/"
        },
        "id": "G_B35ftLGetF",
        "outputId": "3518dd69-d9b5-4aa3-e5d1-8df59f1a9ab4"
      },
      "execution_count": 35,
      "outputs": [
        {
          "output_type": "execute_result",
          "data": {
            "text/plain": [
              "int"
            ]
          },
          "metadata": {},
          "execution_count": 35
        }
      ]
    },
    {
      "cell_type": "code",
      "source": [
        "a = \"e\"\n",
        "type(a)"
      ],
      "metadata": {
        "colab": {
          "base_uri": "https://localhost:8080/"
        },
        "id": "UWODo5-PGiVm",
        "outputId": "42dada15-8f5b-4b2f-90a9-eb30942c7ac7"
      },
      "execution_count": 36,
      "outputs": [
        {
          "output_type": "execute_result",
          "data": {
            "text/plain": [
              "str"
            ]
          },
          "metadata": {},
          "execution_count": 36
        }
      ]
    },
    {
      "cell_type": "code",
      "source": [
        "b = int(a)\n",
        "type()"
      ],
      "metadata": {
        "colab": {
          "base_uri": "https://localhost:8080/",
          "height": 186
        },
        "id": "gtQv30COGmdc",
        "outputId": "e57efbd0-8613-485f-ca4e-dbcccbe8bfc1"
      },
      "execution_count": 37,
      "outputs": [
        {
          "output_type": "error",
          "ename": "ValueError",
          "evalue": "ignored",
          "traceback": [
            "\u001b[0;31m---------------------------------------------------------------------------\u001b[0m",
            "\u001b[0;31mValueError\u001b[0m                                Traceback (most recent call last)",
            "\u001b[0;32m<ipython-input-37-ef48d67b9077>\u001b[0m in \u001b[0;36m<module>\u001b[0;34m()\u001b[0m\n\u001b[0;32m----> 1\u001b[0;31m \u001b[0mb\u001b[0m \u001b[0;34m=\u001b[0m \u001b[0mint\u001b[0m\u001b[0;34m(\u001b[0m\u001b[0ma\u001b[0m\u001b[0;34m)\u001b[0m\u001b[0;34m\u001b[0m\u001b[0;34m\u001b[0m\u001b[0m\n\u001b[0m\u001b[1;32m      2\u001b[0m \u001b[0mtype\u001b[0m\u001b[0;34m(\u001b[0m\u001b[0;34m)\u001b[0m\u001b[0;34m\u001b[0m\u001b[0;34m\u001b[0m\u001b[0m\n",
            "\u001b[0;31mValueError\u001b[0m: invalid literal for int() with base 10: 'e'"
          ]
        }
      ]
    },
    {
      "cell_type": "code",
      "source": [
        "#not-puan hesaplayan program\n",
        "\n",
        "puan = float(input(\"Notunu gir: \"))\n",
        "\n",
        "if puan < 45:\n",
        "  print(\"puanın karşılığı: 1\")\n",
        "elif 45 <= puan < 55:\n",
        "  print(\"puanın karşılığı: 2\")\n",
        "elif 55 <= puan < 69:\n",
        "  print(\"puanın karşılığı: 3\")\n",
        "elif 70 <= puan < 84:\n",
        "  print(\"puanın karşılığı: 4\")\n",
        "elif 85 <= puan <= 100:\n",
        "  print(\"puanın karşılığı:5\")\n",
        "else:\n",
        "  print(\"Geçerli bir sayı gir..!\")"
      ],
      "metadata": {
        "colab": {
          "base_uri": "https://localhost:8080/"
        },
        "id": "-k66XqR_GuYd",
        "outputId": "5a7d93be-df92-4875-8502-162bb7791f54"
      },
      "execution_count": 39,
      "outputs": [
        {
          "output_type": "stream",
          "name": "stdout",
          "text": [
            "Notunu gir: 78\n",
            "puanın karşılığı: 4\n"
          ]
        }
      ]
    },
    {
      "cell_type": "code",
      "source": [
        "(456> 8 and 8<89) or (12>67 and 45.5<78)"
      ],
      "metadata": {
        "colab": {
          "base_uri": "https://localhost:8080/"
        },
        "id": "ouZjrH-iIJtU",
        "outputId": "c24e6209-a4f6-4b6a-91bb-e8f8b2360d9b"
      },
      "execution_count": 41,
      "outputs": [
        {
          "output_type": "execute_result",
          "data": {
            "text/plain": [
              "True"
            ]
          },
          "metadata": {},
          "execution_count": 41
        }
      ]
    },
    {
      "cell_type": "code",
      "source": [
        "k_adi= input(\"Kulanıcı adını gir: \")\n",
        "sifre= input(\"Şifreni gir: \")\n",
        "\n",
        "if (k_adi == \"kedi\") and (sifre== \"123\"):\n",
        "  print(\"Blgilerin doğru, giriş başarılı\")\n",
        "\n",
        "elif (k_adi == \"kedi\") and (sifre== \"1234\"):\n",
        "  print(\"Şifren hatalı\")\n",
        "\n",
        "elif (k_adi == \"elma\") and (sifre== \"123\"):\n",
        "  print(\"Kulalnıcı adın  hatalı\")\n",
        "\n",
        "else:\n",
        "  print(\"Giridğin iki bilgi de hatalı!!!!\")"
      ],
      "metadata": {
        "colab": {
          "base_uri": "https://localhost:8080/"
        },
        "id": "eglsp6gJIoV9",
        "outputId": "b879758e-0b3c-4533-8995-01135784c929"
      },
      "execution_count": 45,
      "outputs": [
        {
          "output_type": "stream",
          "name": "stdout",
          "text": [
            "Kulanıcı adını gir: kedi\n",
            "Şifreni gir: 1234\n",
            "Şifren hatalı\n"
          ]
        }
      ]
    },
    {
      "cell_type": "code",
      "source": [
        "db_kullaniciadi= \"kedi\"\n",
        "db_sifre= \"1234\"\n",
        "\n",
        "\n",
        "k_adi= input(\"Kulanıcı adını gir: \")\n",
        "sifre= input(\"Şifreni gir: \")\n",
        "\n",
        "if (k_adi == db_kullaniciadi) and (sifre == db_sifre):\n",
        "  print(\"Blgilerin doğru, giriş başarılı...\")\n",
        "\n",
        "elif (k_adi == db_kullaniciadi) and (sifre != db_sifre):\n",
        "  print(\"Şifren hatalı...\")\n",
        "\n",
        "elif (k_adi != db_kullaniciadi) and (sifre == db_sifre):\n",
        "  print(\"Kulalnıcı adın  hatalı\")\n",
        "\n",
        "else:\n",
        "  print(\"Giridğin iki bilgi de hatalı!!!!\")"
      ],
      "metadata": {
        "colab": {
          "base_uri": "https://localhost:8080/"
        },
        "id": "mwAftstXMBKB",
        "outputId": "c254fed5-28b8-4a5d-f20e-cdadc7cbcf19"
      },
      "execution_count": 48,
      "outputs": [
        {
          "output_type": "stream",
          "name": "stdout",
          "text": [
            "Kulanıcı adını gir: karpuz\n",
            "Şifreni gir: 123\n",
            "Giridğin iki bilgi de hatalı!!!!\n"
          ]
        }
      ]
    },
    {
      "cell_type": "code",
      "source": [
        "rakamlar = [0,1,2,3,4,5,6,7,8]\n"
      ],
      "metadata": {
        "id": "Df9-_SdFM-mH"
      },
      "execution_count": 50,
      "outputs": []
    },
    {
      "cell_type": "code",
      "source": [
        "type(rakamlar)"
      ],
      "metadata": {
        "colab": {
          "base_uri": "https://localhost:8080/"
        },
        "id": "hOBBUulANH6o",
        "outputId": "defb3649-21b8-4a40-9ac1-59d5124aa6a7"
      },
      "execution_count": 51,
      "outputs": [
        {
          "output_type": "execute_result",
          "data": {
            "text/plain": [
              "list"
            ]
          },
          "metadata": {},
          "execution_count": 51
        }
      ]
    },
    {
      "cell_type": "code",
      "source": [
        "rakamlar.append(9)"
      ],
      "metadata": {
        "id": "PDHJWXalNMnt"
      },
      "execution_count": 52,
      "outputs": []
    },
    {
      "cell_type": "code",
      "source": [
        "print(rakamlar)"
      ],
      "metadata": {
        "colab": {
          "base_uri": "https://localhost:8080/"
        },
        "id": "uUiemv0VNXZe",
        "outputId": "bf46958b-ffbd-450a-e86b-89039b9aa87d"
      },
      "execution_count": 54,
      "outputs": [
        {
          "output_type": "stream",
          "name": "stdout",
          "text": [
            "[0, 1, 2, 3, 4, 5, 6, 7, 8, 9]\n"
          ]
        }
      ]
    },
    {
      "cell_type": "code",
      "source": [
        "rakamlar.pop()"
      ],
      "metadata": {
        "colab": {
          "base_uri": "https://localhost:8080/"
        },
        "id": "GH3Le-sDNfTT",
        "outputId": "55672647-536c-412f-9f56-b519f5d387e7"
      },
      "execution_count": 55,
      "outputs": [
        {
          "output_type": "execute_result",
          "data": {
            "text/plain": [
              "9"
            ]
          },
          "metadata": {},
          "execution_count": 55
        }
      ]
    },
    {
      "cell_type": "code",
      "source": [
        "rakamlar"
      ],
      "metadata": {
        "colab": {
          "base_uri": "https://localhost:8080/"
        },
        "id": "EFEnhsqSNn0w",
        "outputId": "80dfa481-29d7-4a44-efa4-848c135db24a"
      },
      "execution_count": 56,
      "outputs": [
        {
          "output_type": "execute_result",
          "data": {
            "text/plain": [
              "[0, 1, 2, 3, 4, 5, 6, 7, 8]"
            ]
          },
          "metadata": {},
          "execution_count": 56
        }
      ]
    },
    {
      "cell_type": "code",
      "source": [
        "rakamlar.append(9)"
      ],
      "metadata": {
        "id": "vaG7tDCaNrDZ"
      },
      "execution_count": 68,
      "outputs": []
    },
    {
      "cell_type": "code",
      "source": [
        "yeniListe = rakamlar.reverse()"
      ],
      "metadata": {
        "id": "mjJFAEw2OVUn"
      },
      "execution_count": 73,
      "outputs": []
    },
    {
      "cell_type": "code",
      "source": [
        "yeniListe"
      ],
      "metadata": {
        "id": "16VTk-q5OaK6"
      },
      "execution_count": 74,
      "outputs": []
    },
    {
      "cell_type": "code",
      "source": [
        "rakamlar"
      ],
      "metadata": {
        "colab": {
          "base_uri": "https://localhost:8080/"
        },
        "id": "OzlCLAAUOhxJ",
        "outputId": "75212c2b-a183-4eab-f949-9c687d75e953"
      },
      "execution_count": 75,
      "outputs": [
        {
          "output_type": "execute_result",
          "data": {
            "text/plain": [
              "[0, 1, 2, 3, 4, 5, 6, 7, 8, 9, 9, 9]"
            ]
          },
          "metadata": {},
          "execution_count": 75
        }
      ]
    },
    {
      "cell_type": "code",
      "source": [
        "rakamlar[0]"
      ],
      "metadata": {
        "colab": {
          "base_uri": "https://localhost:8080/"
        },
        "id": "lnKd0L0xOkX_",
        "outputId": "cf8d8244-275b-423e-c946-e955b8873662"
      },
      "execution_count": 77,
      "outputs": [
        {
          "output_type": "execute_result",
          "data": {
            "text/plain": [
              "0"
            ]
          },
          "metadata": {},
          "execution_count": 77
        }
      ]
    },
    {
      "cell_type": "code",
      "source": [
        "liste = [2,45,78]"
      ],
      "metadata": {
        "id": "fVJwBdYYOtrw"
      },
      "execution_count": 78,
      "outputs": []
    },
    {
      "cell_type": "code",
      "source": [
        "liste[1]"
      ],
      "metadata": {
        "colab": {
          "base_uri": "https://localhost:8080/"
        },
        "id": "fGT7NhCJOwGM",
        "outputId": "12edb76f-bf48-4fc9-e62a-2f2688f7fe91"
      },
      "execution_count": 79,
      "outputs": [
        {
          "output_type": "execute_result",
          "data": {
            "text/plain": [
              "45"
            ]
          },
          "metadata": {},
          "execution_count": 79
        }
      ]
    },
    {
      "cell_type": "code",
      "source": [
        "ad = \"İklim\"\n",
        "liste = list(ad)\n",
        "print(liste)"
      ],
      "metadata": {
        "colab": {
          "base_uri": "https://localhost:8080/"
        },
        "id": "-oSLabq_Oz5T",
        "outputId": "c2748d07-9c37-4a04-c5fa-47c34fa61212"
      },
      "execution_count": 80,
      "outputs": [
        {
          "output_type": "stream",
          "name": "stdout",
          "text": [
            "['İ', 'k', 'l', 'i', 'm']\n"
          ]
        }
      ]
    },
    {
      "cell_type": "code",
      "source": [
        "print(5*liste)"
      ],
      "metadata": {
        "colab": {
          "base_uri": "https://localhost:8080/"
        },
        "id": "51CPzdukO9Xg",
        "outputId": "0bcc796e-ec30-4616-8fa4-f8d0dac07f32"
      },
      "execution_count": 81,
      "outputs": [
        {
          "output_type": "stream",
          "name": "stdout",
          "text": [
            "['İ', 'k', 'l', 'i', 'm', 'İ', 'k', 'l', 'i', 'm', 'İ', 'k', 'l', 'i', 'm', 'İ', 'k', 'l', 'i', 'm', 'İ', 'k', 'l', 'i', 'm']\n"
          ]
        }
      ]
    },
    {
      "cell_type": "code",
      "source": [
        "#for döngüsü...\n",
        "rakamlar = [0,1,2,3,4,5,6,7,8,9]\n",
        "\n",
        "for i in rakamlar:\n",
        "  print(i, \"Bir rakamdır..\")"
      ],
      "metadata": {
        "colab": {
          "base_uri": "https://localhost:8080/"
        },
        "id": "ZW6BpNM-PBxu",
        "outputId": "4eafc18c-019b-4cf8-d92b-cc24b5abdc67"
      },
      "execution_count": 82,
      "outputs": [
        {
          "output_type": "stream",
          "name": "stdout",
          "text": [
            "0 Bir rakamdır..\n",
            "1 Bir rakamdır..\n",
            "2 Bir rakamdır..\n",
            "3 Bir rakamdır..\n",
            "4 Bir rakamdır..\n",
            "5 Bir rakamdır..\n",
            "6 Bir rakamdır..\n",
            "7 Bir rakamdır..\n",
            "8 Bir rakamdır..\n",
            "9 Bir rakamdır..\n"
          ]
        }
      ]
    },
    {
      "cell_type": "code",
      "source": [
        "odemeler = [300, 46, 56, 89, 76, 45,4322,555,666,8899, 5656, 78, -190, 870, -56545, 999887, 67666, -87666]\n",
        "toplam = 0\n",
        "\n",
        "for i in odemeler:\n",
        "  toplam = toplam +i\n",
        "print(f\"Günlük ciro: {toplam} \")"
      ],
      "metadata": {
        "colab": {
          "base_uri": "https://localhost:8080/"
        },
        "id": "5Y08EXI_PZ4m",
        "outputId": "dfc8b4df-ad3b-42f6-df8d-355b779270fa"
      },
      "execution_count": 85,
      "outputs": [
        {
          "output_type": "stream",
          "name": "stdout",
          "text": [
            "Günlük ciro: 944810 \n"
          ]
        }
      ]
    },
    {
      "cell_type": "code",
      "source": [
        "# ardışık sayıların toplamını veren python programı.."
      ],
      "metadata": {
        "id": "I7F8vVgqQH7N"
      },
      "execution_count": null,
      "outputs": []
    },
    {
      "cell_type": "code",
      "source": [
        "print(*range(1,11))"
      ],
      "metadata": {
        "colab": {
          "base_uri": "https://localhost:8080/"
        },
        "id": "mOOYA8IbQL3B",
        "outputId": "ac85dfe6-d959-4b3d-ca92-a814f6a53d9a"
      },
      "execution_count": 90,
      "outputs": [
        {
          "output_type": "stream",
          "name": "stdout",
          "text": [
            "1 2 3 4 5 6 7 8 9 10\n"
          ]
        }
      ]
    },
    {
      "cell_type": "code",
      "source": [
        "print(*range(0,100, 5))"
      ],
      "metadata": {
        "colab": {
          "base_uri": "https://localhost:8080/"
        },
        "id": "07ihqklfQWqx",
        "outputId": "2a1ff92d-3b10-473c-d93f-deaa3610825d"
      },
      "execution_count": 92,
      "outputs": [
        {
          "output_type": "stream",
          "name": "stdout",
          "text": [
            "0 5 10 15 20 25 30 35 40 45 50 55 60 65 70 75 80 85 90 95\n"
          ]
        }
      ]
    },
    {
      "cell_type": "code",
      "source": [
        "#1 den 100 e kadar 100 dahil sayıların toplamı:\n",
        "toplam = 0\n",
        "for elaman in range(1,101):\n",
        "  toplam +=elaman\n",
        "print(f\"Sonuç: {toplam}\")\n"
      ],
      "metadata": {
        "colab": {
          "base_uri": "https://localhost:8080/"
        },
        "id": "v_s5LwiGQc63",
        "outputId": "1409217f-7c60-4660-8a55-a07cd1481cf6"
      },
      "execution_count": 94,
      "outputs": [
        {
          "output_type": "stream",
          "name": "stdout",
          "text": [
            "Sonuç: 5050\n"
          ]
        }
      ]
    },
    {
      "cell_type": "code",
      "source": [
        "#faktöriyel hesaplayan minik program\n",
        "\n",
        "#5!= 5*4*3*2*1, 6!=6*5*4*3*2*1\n",
        "faktoriyel = 1\n",
        "for eleman in range(1,6):\n",
        "  faktoriyel *= eleman\n",
        "print(f\"5'in faktöriyeli: {faktoriyel}\")"
      ],
      "metadata": {
        "colab": {
          "base_uri": "https://localhost:8080/"
        },
        "id": "4hhLEDtERM6m",
        "outputId": "6c15e230-44e0-4166-a93a-1f07e986a08c"
      },
      "execution_count": 99,
      "outputs": [
        {
          "output_type": "stream",
          "name": "stdout",
          "text": [
            "5'in faktöriyeli: 120\n"
          ]
        }
      ]
    },
    {
      "cell_type": "code",
      "source": [
        "sayi = int(input(\"Faktöriyelini bulmak istediğins ayıyı gir: \"))\n",
        "\n",
        "faktoriyel =1\n",
        "for eleman in range(1, sayi+1):\n",
        "   faktoriyel *= eleman\n",
        "print(f\"{sayi}'in faktöriyeli: {faktoriyel}\") \n"
      ],
      "metadata": {
        "colab": {
          "base_uri": "https://localhost:8080/"
        },
        "id": "pOqDd4CKST5v",
        "outputId": "60bc4209-6964-4d85-fc0d-c6d66aa434df"
      },
      "execution_count": 103,
      "outputs": [
        {
          "output_type": "stream",
          "name": "stdout",
          "text": [
            "Faktöriyelini bulmak istediğins ayıyı gir: 200\n",
            "200'in faktöriyeli: 788657867364790503552363213932185062295135977687173263294742533244359449963403342920304284011984623904177212138919638830257642790242637105061926624952829931113462857270763317237396988943922445621451664240254033291864131227428294853277524242407573903240321257405579568660226031904170324062351700858796178922222789623703897374720000000000000000000000000000000000000000000000000\n"
          ]
        }
      ]
    },
    {
      "cell_type": "code",
      "source": [
        "#while döngüsü\n",
        "i=1\n",
        "while i<10:\n",
        "  i=i+1\n",
        "  print(\"Merhaba\")"
      ],
      "metadata": {
        "colab": {
          "base_uri": "https://localhost:8080/"
        },
        "id": "u_9zihyvTzsV",
        "outputId": "0738be39-9344-4c49-cca3-a221a1173237"
      },
      "execution_count": 109,
      "outputs": [
        {
          "output_type": "stream",
          "name": "stdout",
          "text": [
            "Merhaba\n",
            "Merhaba\n",
            "Merhaba\n",
            "Merhaba\n",
            "Merhaba\n",
            "Merhaba\n",
            "Merhaba\n",
            "Merhaba\n",
            "Merhaba\n"
          ]
        }
      ]
    }
  ]
}