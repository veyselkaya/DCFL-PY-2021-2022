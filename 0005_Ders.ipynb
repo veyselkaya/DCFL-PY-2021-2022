{
  "nbformat": 4,
  "nbformat_minor": 0,
  "metadata": {
    "colab": {
      "name": "0005_Ders.ipynb",
      "provenance": []
    },
    "kernelspec": {
      "name": "python3",
      "display_name": "Python 3"
    },
    "language_info": {
      "name": "python"
    }
  },
  "cells": [
    {
      "cell_type": "code",
      "source": [
        "#hatırlayalım...!"
      ],
      "metadata": {
        "id": "N53XIboEfHqM"
      },
      "execution_count": null,
      "outputs": []
    },
    {
      "cell_type": "code",
      "source": [
        "rakamlar = [0,1,2,3,4,5,6,7,8,9]\n",
        "for eleman in rakamlar:\n",
        "  print(eleman, \"Bir rakamdır\")\n"
      ],
      "metadata": {
        "colab": {
          "base_uri": "https://localhost:8080/"
        },
        "id": "QXcjiFVWf5sG",
        "outputId": "7267a5b3-da01-497f-cfbd-077029305f92"
      },
      "execution_count": 18,
      "outputs": [
        {
          "output_type": "stream",
          "name": "stdout",
          "text": [
            "0 Bir rakamdır\n",
            "1 Bir rakamdır\n",
            "2 Bir rakamdır\n",
            "3 Bir rakamdır\n",
            "4 Bir rakamdır\n",
            "5 Bir rakamdır\n",
            "6 Bir rakamdır\n",
            "7 Bir rakamdır\n",
            "8 Bir rakamdır\n",
            "9 Bir rakamdır\n"
          ]
        }
      ]
    },
    {
      "cell_type": "code",
      "source": [
        "liste = [1,2,3,4,5,6,7,8,9,10]\n",
        "toplam = 0\n",
        "for eleman in liste:\n",
        "  toplam = toplam+eleman\n",
        "  print(\"Toplamları: \", toplam)\n",
        "\n",
        "print(50*\"*\")\n",
        "print(\"Toplamları: \", toplam)\n",
        "\n"
      ],
      "metadata": {
        "colab": {
          "base_uri": "https://localhost:8080/"
        },
        "id": "hb7NyOMlgOos",
        "outputId": "d6e8cf25-6f3d-4dd3-f8ef-0b2485a5eeda"
      },
      "execution_count": 20,
      "outputs": [
        {
          "output_type": "stream",
          "name": "stdout",
          "text": [
            "**************************************************\n",
            "Toplamları:  55\n"
          ]
        }
      ]
    },
    {
      "cell_type": "code",
      "source": [
        "#For döngüsü ile bilgi yarışması programı\n",
        "sayac = 0\n",
        "puan = 0\n",
        "sorular = [\"1.Soru...: Nobel ödülleri hangi ülkede verilmektedir? \\n A)Norveç \\n B)İsveç \\n C)Amerika \\n D)Türkiye \", \"2. Soru...:Türkiyede erozyonla mücadele için kurulan kuruluşun ismi nedir? \\n A)AFAD \\n B)FBI \\n C)TEMA \\n D)Yeşilay\", \"3.Soru...:Mimar Sinanın Edirne'deki ustalık eserinin adı nedir? \\n A)Selimiye \\n B)Ayasofya \\n C)Sultanahmed \\n D)Fatih Camii \"]\n",
        "cevaplar =[\"B\", \"C\", \"A\"]\n",
        "\n",
        "print(\"Bilgi yarışmasıan hoş geldin...!:)\")\n",
        "print(50*\"*\")\n",
        "ad = input(\"Adını yaz..:) \")\n",
        "\n",
        "for soru in sorular: \n",
        "  print(sorular[sayac])\n",
        "  cevap = input(\"Cevap şıkkınızı giriniz: \")\n",
        "  if cevap.upper() == cevaplar[sayac]:\n",
        "    puan +=10\n",
        "    print(\"Cevabın doğru, tebrikler, Yeni puanın:\", puan)\n",
        "\n",
        "  else:\n",
        "    print(\"Cevabın hatalı! Lütfen dikkatli ol...:)\")\n",
        "  sayac +=1\n",
        "\n",
        "print(50*\"*\")\n",
        "print(f\"Yarışam bitti. {ad}. Toplam Puanın: {puan} \")\n"
      ],
      "metadata": {
        "colab": {
          "base_uri": "https://localhost:8080/"
        },
        "id": "CvSMJujpjWYn",
        "outputId": "432919cf-bdd7-46eb-c82c-1069195b79db"
      },
      "execution_count": 25,
      "outputs": [
        {
          "output_type": "stream",
          "name": "stdout",
          "text": [
            "Bilgi yarışmasıan hoş geldin...!:)\n",
            "**************************************************\n",
            "Adını yaz..:) Beyza\n",
            "1.Soru...: Nobel ödülleri hangi ülkede verilmektedir? \n",
            " A)Norveç \n",
            " B)İsveç \n",
            " C)Amerika \n",
            " D)Türkiye \n",
            "Cevap şıkkınızı giriniz: b\n",
            "Cevabın doğru, tebrikler, Yeni puanın: 10\n",
            "2. Soru...:Türkiyede erozyonla mücadele için kurulan kuruluşun ismi nedir? \n",
            " A)AFAD \n",
            " B)FBI \n",
            " C)TEMA \n",
            " D)Yeşilay\n",
            "Cevap şıkkınızı giriniz: c\n",
            "Cevabın doğru, tebrikler, Yeni puanın: 20\n",
            "3.Soru...:Mimar Sinanın Edirne'deki ustalık eserinin adı nedir? \n",
            " A)Selimiye \n",
            " B)Ayasofya \n",
            " C)Sultanahmed \n",
            " D)Fatih Camii \n",
            "Cevap şıkkınızı giriniz: d\n",
            "Cevabın hatalı! Lütfen dikkatli ol...:)\n",
            "**************************************************\n",
            "Yarışam bitti. Beyza. Toplam Puanın: 20 \n"
          ]
        }
      ]
    },
    {
      "cell_type": "code",
      "source": [
        "#While döngüsü"
      ],
      "metadata": {
        "id": "RhNS-iZwnCvR"
      },
      "execution_count": null,
      "outputs": []
    },
    {
      "cell_type": "code",
      "source": [
        "i = 0\n",
        "while i<10:\n",
        "  print(\"i'nin değerleri: \",i)\n",
        "  i +=1\n"
      ],
      "metadata": {
        "colab": {
          "base_uri": "https://localhost:8080/"
        },
        "id": "kyiP3rttnOnQ",
        "outputId": "fdd7c0fc-2a5a-4ad6-cb55-eb92bbdd5dee"
      },
      "execution_count": 29,
      "outputs": [
        {
          "output_type": "stream",
          "name": "stdout",
          "text": [
            "i'nin değerleri:  0\n",
            "i'nin değerleri:  1\n",
            "i'nin değerleri:  2\n",
            "i'nin değerleri:  3\n",
            "i'nin değerleri:  4\n",
            "i'nin değerleri:  5\n",
            "i'nin değerleri:  6\n",
            "i'nin değerleri:  7\n",
            "i'nin değerleri:  8\n",
            "i'nin değerleri:  9\n"
          ]
        }
      ]
    },
    {
      "cell_type": "code",
      "source": [
        "#şakalı kod..:)---sonsuz döngü\n",
        "i = 0\n",
        "while i<10:\n",
        "  print(i)"
      ],
      "metadata": {
        "id": "49PKeC7znuLT"
      },
      "execution_count": null,
      "outputs": []
    },
    {
      "cell_type": "code",
      "source": [
        "print(\"Basmadım ki..:🤣🤣\")"
      ],
      "metadata": {
        "colab": {
          "base_uri": "https://localhost:8080/"
        },
        "id": "IqCM2flToz2N",
        "outputId": "e818dd31-ea8b-4009-80da-a3c49b48a720"
      },
      "execution_count": 28,
      "outputs": [
        {
          "output_type": "stream",
          "name": "stdout",
          "text": [
            "Basmadım ki..:🤣🤣\n"
          ]
        }
      ]
    },
    {
      "cell_type": "code",
      "source": [
        "#range() fonksiyonu...."
      ],
      "metadata": {
        "id": "o0qe_vvUrQkD"
      },
      "execution_count": null,
      "outputs": []
    },
    {
      "cell_type": "code",
      "source": [
        "range(0,20)"
      ],
      "metadata": {
        "colab": {
          "base_uri": "https://localhost:8080/"
        },
        "id": "XECLgtRvrWSP",
        "outputId": "f7dc2aae-64f2-447e-a464-df6a22dc64c1"
      },
      "execution_count": 30,
      "outputs": [
        {
          "output_type": "execute_result",
          "data": {
            "text/plain": [
              "range(0, 20)"
            ]
          },
          "metadata": {},
          "execution_count": 30
        }
      ]
    },
    {
      "cell_type": "code",
      "source": [
        "print(*range(0,20))"
      ],
      "metadata": {
        "colab": {
          "base_uri": "https://localhost:8080/"
        },
        "id": "N-zb70eprZw2",
        "outputId": "9262f8bd-c53f-44a6-f55e-81ee51859f96"
      },
      "execution_count": 34,
      "outputs": [
        {
          "output_type": "stream",
          "name": "stdout",
          "text": [
            "0 1 2 3 4 5 6 7 8 9 10 11 12 13 14 15 16 17 18 19\n"
          ]
        }
      ]
    },
    {
      "cell_type": "code",
      "source": [
        "print(*range(11))"
      ],
      "metadata": {
        "colab": {
          "base_uri": "https://localhost:8080/"
        },
        "id": "2asaNXFFrqOO",
        "outputId": "8740bfa6-c7eb-4524-de0f-7595074b3433"
      },
      "execution_count": 39,
      "outputs": [
        {
          "output_type": "stream",
          "name": "stdout",
          "text": [
            "0 1 2 3 4 5 6 7 8 9 10\n"
          ]
        }
      ]
    },
    {
      "cell_type": "code",
      "source": [
        "print(*range(0,101,2))"
      ],
      "metadata": {
        "colab": {
          "base_uri": "https://localhost:8080/"
        },
        "id": "UJoe4jPirwCT",
        "outputId": "931980c2-2413-4d7f-ee66-88f705a6f97e"
      },
      "execution_count": 38,
      "outputs": [
        {
          "output_type": "stream",
          "name": "stdout",
          "text": [
            "0 2 4 6 8 10 12 14 16 18 20 22 24 26 28 30 32 34 36 38 40 42 44 46 48 50 52 54 56 58 60 62 64 66 68 70 72 74 76 78 80 82 84 86 88 90 92 94 96 98 100\n"
          ]
        }
      ]
    },
    {
      "cell_type": "code",
      "source": [
        "print(*range(20,0,-1))"
      ],
      "metadata": {
        "colab": {
          "base_uri": "https://localhost:8080/"
        },
        "id": "5UcG6YmMsEXT",
        "outputId": "292ce493-f7ce-44e5-e717-870990f9fd3f"
      },
      "execution_count": 41,
      "outputs": [
        {
          "output_type": "stream",
          "name": "stdout",
          "text": [
            "20 19 18 17 16 15 14 13 12 11 10 9 8 7 6 5 4 3 2 1\n"
          ]
        }
      ]
    },
    {
      "cell_type": "code",
      "source": [
        "print(*range(20,0,-3))"
      ],
      "metadata": {
        "colab": {
          "base_uri": "https://localhost:8080/"
        },
        "id": "a0s5S4bgsRvc",
        "outputId": "c6cf50bd-c830-42ba-8a2b-b04b477f2c81"
      },
      "execution_count": 42,
      "outputs": [
        {
          "output_type": "stream",
          "name": "stdout",
          "text": [
            "20 17 14 11 8 5 2\n"
          ]
        }
      ]
    },
    {
      "cell_type": "code",
      "source": [
        "for i in range(0,10):\n",
        "  print(i, \"bir rakamdır...\")"
      ],
      "metadata": {
        "colab": {
          "base_uri": "https://localhost:8080/"
        },
        "id": "PKzVE_LesWNb",
        "outputId": "da9e40c6-6954-445a-ff7a-0eff84cd2519"
      },
      "execution_count": 43,
      "outputs": [
        {
          "output_type": "stream",
          "name": "stdout",
          "text": [
            "0 bir rakamdır...\n",
            "1 bir rakamdır...\n",
            "2 bir rakamdır...\n",
            "3 bir rakamdır...\n",
            "4 bir rakamdır...\n",
            "5 bir rakamdır...\n",
            "6 bir rakamdır...\n",
            "7 bir rakamdır...\n",
            "8 bir rakamdır...\n",
            "9 bir rakamdır...\n"
          ]
        }
      ]
    },
    {
      "cell_type": "code",
      "source": [
        "#range kullanarak 1, den 100 e kadar olan sayıların toplamını bulalım\n",
        "\n",
        "toplam = 0\n",
        "for i in range(101):\n",
        "  toplam +=i\n",
        "print(\"1 den 100'e kadar olan sayıların toplamı...\", toplam)"
      ],
      "metadata": {
        "colab": {
          "base_uri": "https://localhost:8080/"
        },
        "id": "8T8AEuk1soHY",
        "outputId": "1af104b0-a099-4a27-a15e-743ffe3ee56b"
      },
      "execution_count": 44,
      "outputs": [
        {
          "output_type": "stream",
          "name": "stdout",
          "text": [
            "1 den 100'e kadar olan sayıların toplamı... 5050\n"
          ]
        }
      ]
    },
    {
      "cell_type": "code",
      "source": [
        "toplam= 0\n",
        "liste = []\n",
        "for eleman in range(0,101,5):\n",
        "  liste.append(eleman)\n",
        "  toplam+=eleman\n",
        "\n",
        "\n",
        "print(\"0, dan 100'e kadar 100 dahil olan 5 in katı satyıların toplamı: \", toplam)\n",
        "print(liste)\n",
        "print(len(liste))"
      ],
      "metadata": {
        "colab": {
          "base_uri": "https://localhost:8080/"
        },
        "id": "r-mJFoK1tMax",
        "outputId": "f830d8af-6dad-4663-e983-497077e3ad6a"
      },
      "execution_count": 51,
      "outputs": [
        {
          "output_type": "stream",
          "name": "stdout",
          "text": [
            "0, dan 100'e kadar 100 dahil olan 5 in katı satyıların toplamı:  1050\n",
            "[0, 5, 10, 15, 20, 25, 30, 35, 40, 45, 50, 55, 60, 65, 70, 75, 80, 85, 90, 95, 100]\n",
            "21\n"
          ]
        }
      ]
    },
    {
      "cell_type": "code",
      "source": [
        "#örnek\n",
        "\n",
        "for eleman in range(1,10):\n",
        "  print(\"*\"*eleman)\n",
        "\n",
        "for eleman in range(10,0,-1):\n",
        "  print(\"*\"*eleman)"
      ],
      "metadata": {
        "colab": {
          "base_uri": "https://localhost:8080/"
        },
        "id": "RdnmgnzduALm",
        "outputId": "3c230628-1695-4e27-cba1-3c9745bfc757"
      },
      "execution_count": 55,
      "outputs": [
        {
          "output_type": "stream",
          "name": "stdout",
          "text": [
            "*\n",
            "**\n",
            "***\n",
            "****\n",
            "*****\n",
            "******\n",
            "*******\n",
            "********\n",
            "*********\n",
            "**********\n",
            "*********\n",
            "********\n",
            "*******\n",
            "******\n",
            "*****\n",
            "****\n",
            "***\n",
            "**\n",
            "*\n"
          ]
        }
      ]
    },
    {
      "cell_type": "code",
      "source": [
        "#ödev-1* karakterini kullanarak KEDİ harflerini yazınız...!\n",
        "#ödev-2: kullanıcıdan alınan sayının mükemmel olup olmadığını bulan python programını yazınız... 6 = 1,2,3\n"
      ],
      "metadata": {
        "id": "tUdNY0Youfpx"
      },
      "execution_count": null,
      "outputs": []
    },
    {
      "cell_type": "code",
      "source": [
        "#break ve continue ifadeleri"
      ],
      "metadata": {
        "id": "uOM4zG0JvOUP"
      },
      "execution_count": null,
      "outputs": []
    },
    {
      "cell_type": "code",
      "source": [
        "i = 0\n",
        "while i<10:\n",
        "  print(i)\n",
        "  i +=1"
      ],
      "metadata": {
        "colab": {
          "base_uri": "https://localhost:8080/"
        },
        "id": "kl-3Kif1vahT",
        "outputId": "8489061a-26e4-455f-d0f4-1b5195edc3e4"
      },
      "execution_count": 56,
      "outputs": [
        {
          "output_type": "stream",
          "name": "stdout",
          "text": [
            "0\n",
            "1\n",
            "2\n",
            "3\n",
            "4\n",
            "5\n",
            "6\n",
            "7\n",
            "8\n",
            "9\n"
          ]
        }
      ]
    },
    {
      "cell_type": "code",
      "source": [
        "i = 0\n",
        "while i<10:\n",
        "  print(i)\n",
        "  if i==6:\n",
        "    break\n",
        "  i+=1\n",
        "  "
      ],
      "metadata": {
        "colab": {
          "base_uri": "https://localhost:8080/"
        },
        "id": "7I6RdSOpvqTg",
        "outputId": "b0755061-7001-4709-d39c-7e0f57f1669e"
      },
      "execution_count": 58,
      "outputs": [
        {
          "output_type": "stream",
          "name": "stdout",
          "text": [
            "0\n",
            "1\n",
            "2\n",
            "3\n",
            "4\n",
            "5\n",
            "6\n"
          ]
        }
      ]
    },
    {
      "cell_type": "code",
      "source": [
        "liste = [*range(1,10)]\n",
        "for i in liste:\n",
        "  if i == 4:\n",
        "    break\n",
        "  print(i)"
      ],
      "metadata": {
        "colab": {
          "base_uri": "https://localhost:8080/"
        },
        "id": "krzlBcpov85V",
        "outputId": "2c95039d-96cd-4356-b5c1-9414f4f76215"
      },
      "execution_count": 60,
      "outputs": [
        {
          "output_type": "stream",
          "name": "stdout",
          "text": [
            "1\n",
            "2\n",
            "3\n"
          ]
        }
      ]
    },
    {
      "cell_type": "code",
      "source": [
        "##sonsuz döngü...nasıl sonlandırılabilir\n",
        "while True:\n",
        "  isim = input(\"isminiz(çıkmak için q tuşuna basınız)\")\n",
        "  if isim  == \"q\":\n",
        "    print(\"Çıkış yapılıyor...\")\n",
        "    break\n",
        "  print(isim)"
      ],
      "metadata": {
        "colab": {
          "base_uri": "https://localhost:8080/"
        },
        "id": "44XO-dIowpxR",
        "outputId": "f82d254d-025b-443a-c31d-b2428e9bef76"
      },
      "execution_count": 61,
      "outputs": [
        {
          "output_type": "stream",
          "name": "stdout",
          "text": [
            "isminiz(çıkmak için q tuşuna basınız)veysel\n",
            "veysel\n",
            "isminiz(çıkmak için q tuşuna basınız)kedi\n",
            "kedi\n",
            "isminiz(çıkmak için q tuşuna basınız)elma\n",
            "elma\n",
            "isminiz(çıkmak için q tuşuna basınız)armut\n",
            "armut\n",
            "isminiz(çıkmak için q tuşuna basınız)q\n",
            "Çıkış yapılıyor...\n"
          ]
        }
      ]
    },
    {
      "cell_type": "code",
      "source": [
        "#continue ifadesi"
      ],
      "metadata": {
        "id": "HmPNtEPhxfMN"
      },
      "execution_count": null,
      "outputs": []
    },
    {
      "cell_type": "code",
      "source": [
        "liste = [1,2,3,4,5,6,7,8,9]\n",
        "for i in liste:\n",
        "  if i==3 or i==5:\n",
        "    continue\n",
        "  print(\"i\",i)"
      ],
      "metadata": {
        "colab": {
          "base_uri": "https://localhost:8080/"
        },
        "id": "HWVvcyvuxilP",
        "outputId": "fd69a2b2-bad5-4e60-c769-b6795a2ff15d"
      },
      "execution_count": 62,
      "outputs": [
        {
          "output_type": "stream",
          "name": "stdout",
          "text": [
            "i 1\n",
            "i 2\n",
            "i 4\n",
            "i 6\n",
            "i 7\n",
            "i 8\n",
            "i 9\n"
          ]
        }
      ]
    }
  ]
}